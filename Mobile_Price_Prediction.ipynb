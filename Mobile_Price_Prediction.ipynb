{
  "cells": [
    {
      "cell_type": "markdown",
      "source": [
        "#Importing & Trimming Data"
      ],
      "metadata": {
        "id": "wEwZkdDJqNXU"
      }
    },
    {
      "cell_type": "code",
      "execution_count": 2,
      "metadata": {
        "id": "RvZ4xsPGoOT5"
      },
      "outputs": [],
      "source": [
        "import pandas as pd\n",
        "import matplotlib.pyplot as plt"
      ]
    },
    {
      "cell_type": "code",
      "execution_count": null,
      "metadata": {
        "id": "OEAYgc6LoOT8"
      },
      "outputs": [],
      "source": [
        "data_train = pd.read_csv(r'C:\\Users\\Md. Ishrak Khan\\Desktop\\CSE422\\Project_422\\train.csv')"
      ]
    },
    {
      "cell_type": "code",
      "execution_count": null,
      "metadata": {
        "id": "DUf3YCKVoOT9",
        "outputId": "6ba1d354-06ad-4a65-ee23-2fe7d7031551"
      },
      "outputs": [
        {
          "data": {
            "text/html": [
              "<div>\n",
              "<style scoped>\n",
              "    .dataframe tbody tr th:only-of-type {\n",
              "        vertical-align: middle;\n",
              "    }\n",
              "\n",
              "    .dataframe tbody tr th {\n",
              "        vertical-align: top;\n",
              "    }\n",
              "\n",
              "    .dataframe thead th {\n",
              "        text-align: right;\n",
              "    }\n",
              "</style>\n",
              "<table border=\"1\" class=\"dataframe\">\n",
              "  <thead>\n",
              "    <tr style=\"text-align: right;\">\n",
              "      <th></th>\n",
              "      <th>battery_power</th>\n",
              "      <th>blue</th>\n",
              "      <th>clock_speed</th>\n",
              "      <th>dual_sim</th>\n",
              "      <th>fc</th>\n",
              "      <th>four_g</th>\n",
              "      <th>int_memory</th>\n",
              "      <th>m_dep</th>\n",
              "      <th>mobile_wt</th>\n",
              "      <th>n_cores</th>\n",
              "      <th>...</th>\n",
              "      <th>px_height</th>\n",
              "      <th>px_width</th>\n",
              "      <th>ram</th>\n",
              "      <th>sc_h</th>\n",
              "      <th>sc_w</th>\n",
              "      <th>talk_time</th>\n",
              "      <th>three_g</th>\n",
              "      <th>touch_screen</th>\n",
              "      <th>wifi</th>\n",
              "      <th>price_range</th>\n",
              "    </tr>\n",
              "  </thead>\n",
              "  <tbody>\n",
              "    <tr>\n",
              "      <th>0</th>\n",
              "      <td>842</td>\n",
              "      <td>0</td>\n",
              "      <td>2.2</td>\n",
              "      <td>0</td>\n",
              "      <td>1</td>\n",
              "      <td>0</td>\n",
              "      <td>7</td>\n",
              "      <td>0.6</td>\n",
              "      <td>188</td>\n",
              "      <td>2</td>\n",
              "      <td>...</td>\n",
              "      <td>20</td>\n",
              "      <td>756</td>\n",
              "      <td>2549</td>\n",
              "      <td>9</td>\n",
              "      <td>7</td>\n",
              "      <td>19</td>\n",
              "      <td>0</td>\n",
              "      <td>0</td>\n",
              "      <td>1</td>\n",
              "      <td>1</td>\n",
              "    </tr>\n",
              "    <tr>\n",
              "      <th>1</th>\n",
              "      <td>1021</td>\n",
              "      <td>1</td>\n",
              "      <td>0.5</td>\n",
              "      <td>1</td>\n",
              "      <td>0</td>\n",
              "      <td>1</td>\n",
              "      <td>53</td>\n",
              "      <td>0.7</td>\n",
              "      <td>136</td>\n",
              "      <td>3</td>\n",
              "      <td>...</td>\n",
              "      <td>905</td>\n",
              "      <td>1988</td>\n",
              "      <td>2631</td>\n",
              "      <td>17</td>\n",
              "      <td>3</td>\n",
              "      <td>7</td>\n",
              "      <td>1</td>\n",
              "      <td>1</td>\n",
              "      <td>0</td>\n",
              "      <td>2</td>\n",
              "    </tr>\n",
              "    <tr>\n",
              "      <th>2</th>\n",
              "      <td>563</td>\n",
              "      <td>1</td>\n",
              "      <td>0.5</td>\n",
              "      <td>1</td>\n",
              "      <td>2</td>\n",
              "      <td>1</td>\n",
              "      <td>41</td>\n",
              "      <td>0.9</td>\n",
              "      <td>145</td>\n",
              "      <td>5</td>\n",
              "      <td>...</td>\n",
              "      <td>1263</td>\n",
              "      <td>1716</td>\n",
              "      <td>2603</td>\n",
              "      <td>11</td>\n",
              "      <td>2</td>\n",
              "      <td>9</td>\n",
              "      <td>1</td>\n",
              "      <td>1</td>\n",
              "      <td>0</td>\n",
              "      <td>2</td>\n",
              "    </tr>\n",
              "    <tr>\n",
              "      <th>3</th>\n",
              "      <td>615</td>\n",
              "      <td>1</td>\n",
              "      <td>2.5</td>\n",
              "      <td>0</td>\n",
              "      <td>0</td>\n",
              "      <td>0</td>\n",
              "      <td>10</td>\n",
              "      <td>0.8</td>\n",
              "      <td>131</td>\n",
              "      <td>6</td>\n",
              "      <td>...</td>\n",
              "      <td>1216</td>\n",
              "      <td>1786</td>\n",
              "      <td>2769</td>\n",
              "      <td>16</td>\n",
              "      <td>8</td>\n",
              "      <td>11</td>\n",
              "      <td>1</td>\n",
              "      <td>0</td>\n",
              "      <td>0</td>\n",
              "      <td>2</td>\n",
              "    </tr>\n",
              "    <tr>\n",
              "      <th>4</th>\n",
              "      <td>1821</td>\n",
              "      <td>1</td>\n",
              "      <td>1.2</td>\n",
              "      <td>0</td>\n",
              "      <td>13</td>\n",
              "      <td>1</td>\n",
              "      <td>44</td>\n",
              "      <td>0.6</td>\n",
              "      <td>141</td>\n",
              "      <td>2</td>\n",
              "      <td>...</td>\n",
              "      <td>1208</td>\n",
              "      <td>1212</td>\n",
              "      <td>1411</td>\n",
              "      <td>8</td>\n",
              "      <td>2</td>\n",
              "      <td>15</td>\n",
              "      <td>1</td>\n",
              "      <td>1</td>\n",
              "      <td>0</td>\n",
              "      <td>1</td>\n",
              "    </tr>\n",
              "    <tr>\n",
              "      <th>...</th>\n",
              "      <td>...</td>\n",
              "      <td>...</td>\n",
              "      <td>...</td>\n",
              "      <td>...</td>\n",
              "      <td>...</td>\n",
              "      <td>...</td>\n",
              "      <td>...</td>\n",
              "      <td>...</td>\n",
              "      <td>...</td>\n",
              "      <td>...</td>\n",
              "      <td>...</td>\n",
              "      <td>...</td>\n",
              "      <td>...</td>\n",
              "      <td>...</td>\n",
              "      <td>...</td>\n",
              "      <td>...</td>\n",
              "      <td>...</td>\n",
              "      <td>...</td>\n",
              "      <td>...</td>\n",
              "      <td>...</td>\n",
              "      <td>...</td>\n",
              "    </tr>\n",
              "    <tr>\n",
              "      <th>1995</th>\n",
              "      <td>794</td>\n",
              "      <td>1</td>\n",
              "      <td>0.5</td>\n",
              "      <td>1</td>\n",
              "      <td>0</td>\n",
              "      <td>1</td>\n",
              "      <td>2</td>\n",
              "      <td>0.8</td>\n",
              "      <td>106</td>\n",
              "      <td>6</td>\n",
              "      <td>...</td>\n",
              "      <td>1222</td>\n",
              "      <td>1890</td>\n",
              "      <td>668</td>\n",
              "      <td>13</td>\n",
              "      <td>4</td>\n",
              "      <td>19</td>\n",
              "      <td>1</td>\n",
              "      <td>1</td>\n",
              "      <td>0</td>\n",
              "      <td>0</td>\n",
              "    </tr>\n",
              "    <tr>\n",
              "      <th>1996</th>\n",
              "      <td>1965</td>\n",
              "      <td>1</td>\n",
              "      <td>2.6</td>\n",
              "      <td>1</td>\n",
              "      <td>0</td>\n",
              "      <td>0</td>\n",
              "      <td>39</td>\n",
              "      <td>0.2</td>\n",
              "      <td>187</td>\n",
              "      <td>4</td>\n",
              "      <td>...</td>\n",
              "      <td>915</td>\n",
              "      <td>1965</td>\n",
              "      <td>2032</td>\n",
              "      <td>11</td>\n",
              "      <td>10</td>\n",
              "      <td>16</td>\n",
              "      <td>1</td>\n",
              "      <td>1</td>\n",
              "      <td>1</td>\n",
              "      <td>2</td>\n",
              "    </tr>\n",
              "    <tr>\n",
              "      <th>1997</th>\n",
              "      <td>1911</td>\n",
              "      <td>0</td>\n",
              "      <td>0.9</td>\n",
              "      <td>1</td>\n",
              "      <td>1</td>\n",
              "      <td>1</td>\n",
              "      <td>36</td>\n",
              "      <td>0.7</td>\n",
              "      <td>108</td>\n",
              "      <td>8</td>\n",
              "      <td>...</td>\n",
              "      <td>868</td>\n",
              "      <td>1632</td>\n",
              "      <td>3057</td>\n",
              "      <td>9</td>\n",
              "      <td>1</td>\n",
              "      <td>5</td>\n",
              "      <td>1</td>\n",
              "      <td>1</td>\n",
              "      <td>0</td>\n",
              "      <td>3</td>\n",
              "    </tr>\n",
              "    <tr>\n",
              "      <th>1998</th>\n",
              "      <td>1512</td>\n",
              "      <td>0</td>\n",
              "      <td>0.9</td>\n",
              "      <td>0</td>\n",
              "      <td>4</td>\n",
              "      <td>1</td>\n",
              "      <td>46</td>\n",
              "      <td>0.1</td>\n",
              "      <td>145</td>\n",
              "      <td>5</td>\n",
              "      <td>...</td>\n",
              "      <td>336</td>\n",
              "      <td>670</td>\n",
              "      <td>869</td>\n",
              "      <td>18</td>\n",
              "      <td>10</td>\n",
              "      <td>19</td>\n",
              "      <td>1</td>\n",
              "      <td>1</td>\n",
              "      <td>1</td>\n",
              "      <td>0</td>\n",
              "    </tr>\n",
              "    <tr>\n",
              "      <th>1999</th>\n",
              "      <td>510</td>\n",
              "      <td>1</td>\n",
              "      <td>2.0</td>\n",
              "      <td>1</td>\n",
              "      <td>5</td>\n",
              "      <td>1</td>\n",
              "      <td>45</td>\n",
              "      <td>0.9</td>\n",
              "      <td>168</td>\n",
              "      <td>6</td>\n",
              "      <td>...</td>\n",
              "      <td>483</td>\n",
              "      <td>754</td>\n",
              "      <td>3919</td>\n",
              "      <td>19</td>\n",
              "      <td>4</td>\n",
              "      <td>2</td>\n",
              "      <td>1</td>\n",
              "      <td>1</td>\n",
              "      <td>1</td>\n",
              "      <td>3</td>\n",
              "    </tr>\n",
              "  </tbody>\n",
              "</table>\n",
              "<p>2000 rows × 21 columns</p>\n",
              "</div>"
            ],
            "text/plain": [
              "      battery_power  blue  clock_speed  dual_sim  fc  four_g  int_memory  \\\n",
              "0               842     0          2.2         0   1       0           7   \n",
              "1              1021     1          0.5         1   0       1          53   \n",
              "2               563     1          0.5         1   2       1          41   \n",
              "3               615     1          2.5         0   0       0          10   \n",
              "4              1821     1          1.2         0  13       1          44   \n",
              "...             ...   ...          ...       ...  ..     ...         ...   \n",
              "1995            794     1          0.5         1   0       1           2   \n",
              "1996           1965     1          2.6         1   0       0          39   \n",
              "1997           1911     0          0.9         1   1       1          36   \n",
              "1998           1512     0          0.9         0   4       1          46   \n",
              "1999            510     1          2.0         1   5       1          45   \n",
              "\n",
              "      m_dep  mobile_wt  n_cores  ...  px_height  px_width   ram  sc_h  sc_w  \\\n",
              "0       0.6        188        2  ...         20       756  2549     9     7   \n",
              "1       0.7        136        3  ...        905      1988  2631    17     3   \n",
              "2       0.9        145        5  ...       1263      1716  2603    11     2   \n",
              "3       0.8        131        6  ...       1216      1786  2769    16     8   \n",
              "4       0.6        141        2  ...       1208      1212  1411     8     2   \n",
              "...     ...        ...      ...  ...        ...       ...   ...   ...   ...   \n",
              "1995    0.8        106        6  ...       1222      1890   668    13     4   \n",
              "1996    0.2        187        4  ...        915      1965  2032    11    10   \n",
              "1997    0.7        108        8  ...        868      1632  3057     9     1   \n",
              "1998    0.1        145        5  ...        336       670   869    18    10   \n",
              "1999    0.9        168        6  ...        483       754  3919    19     4   \n",
              "\n",
              "      talk_time  three_g  touch_screen  wifi  price_range  \n",
              "0            19        0             0     1            1  \n",
              "1             7        1             1     0            2  \n",
              "2             9        1             1     0            2  \n",
              "3            11        1             0     0            2  \n",
              "4            15        1             1     0            1  \n",
              "...         ...      ...           ...   ...          ...  \n",
              "1995         19        1             1     0            0  \n",
              "1996         16        1             1     1            2  \n",
              "1997          5        1             1     0            3  \n",
              "1998         19        1             1     1            0  \n",
              "1999          2        1             1     1            3  \n",
              "\n",
              "[2000 rows x 21 columns]"
            ]
          },
          "execution_count": 208,
          "metadata": {},
          "output_type": "execute_result"
        }
      ],
      "source": [
        "data_train"
      ]
    },
    {
      "cell_type": "code",
      "execution_count": null,
      "metadata": {
        "id": "-EZcQMpCoOT_",
        "outputId": "cbe8561c-2caa-4001-a570-76c40d4c4a96"
      },
      "outputs": [
        {
          "data": {
            "text/html": [
              "<div>\n",
              "<style scoped>\n",
              "    .dataframe tbody tr th:only-of-type {\n",
              "        vertical-align: middle;\n",
              "    }\n",
              "\n",
              "    .dataframe tbody tr th {\n",
              "        vertical-align: top;\n",
              "    }\n",
              "\n",
              "    .dataframe thead th {\n",
              "        text-align: right;\n",
              "    }\n",
              "</style>\n",
              "<table border=\"1\" class=\"dataframe\">\n",
              "  <thead>\n",
              "    <tr style=\"text-align: right;\">\n",
              "      <th></th>\n",
              "      <th>battery_power</th>\n",
              "      <th>blue</th>\n",
              "      <th>clock_speed</th>\n",
              "      <th>dual_sim</th>\n",
              "      <th>fc</th>\n",
              "      <th>four_g</th>\n",
              "      <th>int_memory</th>\n",
              "      <th>m_dep</th>\n",
              "      <th>mobile_wt</th>\n",
              "      <th>n_cores</th>\n",
              "      <th>...</th>\n",
              "      <th>px_height</th>\n",
              "      <th>px_width</th>\n",
              "      <th>ram</th>\n",
              "      <th>sc_h</th>\n",
              "      <th>sc_w</th>\n",
              "      <th>talk_time</th>\n",
              "      <th>three_g</th>\n",
              "      <th>touch_screen</th>\n",
              "      <th>wifi</th>\n",
              "      <th>price_range</th>\n",
              "    </tr>\n",
              "  </thead>\n",
              "  <tbody>\n",
              "    <tr>\n",
              "      <th>0</th>\n",
              "      <td>False</td>\n",
              "      <td>False</td>\n",
              "      <td>False</td>\n",
              "      <td>False</td>\n",
              "      <td>False</td>\n",
              "      <td>False</td>\n",
              "      <td>False</td>\n",
              "      <td>False</td>\n",
              "      <td>False</td>\n",
              "      <td>False</td>\n",
              "      <td>...</td>\n",
              "      <td>False</td>\n",
              "      <td>False</td>\n",
              "      <td>False</td>\n",
              "      <td>False</td>\n",
              "      <td>False</td>\n",
              "      <td>False</td>\n",
              "      <td>False</td>\n",
              "      <td>False</td>\n",
              "      <td>False</td>\n",
              "      <td>False</td>\n",
              "    </tr>\n",
              "    <tr>\n",
              "      <th>1</th>\n",
              "      <td>False</td>\n",
              "      <td>False</td>\n",
              "      <td>False</td>\n",
              "      <td>False</td>\n",
              "      <td>False</td>\n",
              "      <td>False</td>\n",
              "      <td>False</td>\n",
              "      <td>False</td>\n",
              "      <td>False</td>\n",
              "      <td>False</td>\n",
              "      <td>...</td>\n",
              "      <td>False</td>\n",
              "      <td>False</td>\n",
              "      <td>False</td>\n",
              "      <td>False</td>\n",
              "      <td>False</td>\n",
              "      <td>False</td>\n",
              "      <td>False</td>\n",
              "      <td>False</td>\n",
              "      <td>False</td>\n",
              "      <td>False</td>\n",
              "    </tr>\n",
              "    <tr>\n",
              "      <th>2</th>\n",
              "      <td>False</td>\n",
              "      <td>False</td>\n",
              "      <td>False</td>\n",
              "      <td>False</td>\n",
              "      <td>False</td>\n",
              "      <td>False</td>\n",
              "      <td>False</td>\n",
              "      <td>False</td>\n",
              "      <td>False</td>\n",
              "      <td>False</td>\n",
              "      <td>...</td>\n",
              "      <td>False</td>\n",
              "      <td>False</td>\n",
              "      <td>False</td>\n",
              "      <td>False</td>\n",
              "      <td>False</td>\n",
              "      <td>False</td>\n",
              "      <td>False</td>\n",
              "      <td>False</td>\n",
              "      <td>False</td>\n",
              "      <td>False</td>\n",
              "    </tr>\n",
              "    <tr>\n",
              "      <th>3</th>\n",
              "      <td>False</td>\n",
              "      <td>False</td>\n",
              "      <td>False</td>\n",
              "      <td>False</td>\n",
              "      <td>False</td>\n",
              "      <td>False</td>\n",
              "      <td>False</td>\n",
              "      <td>False</td>\n",
              "      <td>False</td>\n",
              "      <td>False</td>\n",
              "      <td>...</td>\n",
              "      <td>False</td>\n",
              "      <td>False</td>\n",
              "      <td>False</td>\n",
              "      <td>False</td>\n",
              "      <td>False</td>\n",
              "      <td>False</td>\n",
              "      <td>False</td>\n",
              "      <td>False</td>\n",
              "      <td>False</td>\n",
              "      <td>False</td>\n",
              "    </tr>\n",
              "    <tr>\n",
              "      <th>4</th>\n",
              "      <td>False</td>\n",
              "      <td>False</td>\n",
              "      <td>False</td>\n",
              "      <td>False</td>\n",
              "      <td>False</td>\n",
              "      <td>False</td>\n",
              "      <td>False</td>\n",
              "      <td>False</td>\n",
              "      <td>False</td>\n",
              "      <td>False</td>\n",
              "      <td>...</td>\n",
              "      <td>False</td>\n",
              "      <td>False</td>\n",
              "      <td>False</td>\n",
              "      <td>False</td>\n",
              "      <td>False</td>\n",
              "      <td>False</td>\n",
              "      <td>False</td>\n",
              "      <td>False</td>\n",
              "      <td>False</td>\n",
              "      <td>False</td>\n",
              "    </tr>\n",
              "    <tr>\n",
              "      <th>...</th>\n",
              "      <td>...</td>\n",
              "      <td>...</td>\n",
              "      <td>...</td>\n",
              "      <td>...</td>\n",
              "      <td>...</td>\n",
              "      <td>...</td>\n",
              "      <td>...</td>\n",
              "      <td>...</td>\n",
              "      <td>...</td>\n",
              "      <td>...</td>\n",
              "      <td>...</td>\n",
              "      <td>...</td>\n",
              "      <td>...</td>\n",
              "      <td>...</td>\n",
              "      <td>...</td>\n",
              "      <td>...</td>\n",
              "      <td>...</td>\n",
              "      <td>...</td>\n",
              "      <td>...</td>\n",
              "      <td>...</td>\n",
              "      <td>...</td>\n",
              "    </tr>\n",
              "    <tr>\n",
              "      <th>1995</th>\n",
              "      <td>False</td>\n",
              "      <td>False</td>\n",
              "      <td>False</td>\n",
              "      <td>False</td>\n",
              "      <td>False</td>\n",
              "      <td>False</td>\n",
              "      <td>False</td>\n",
              "      <td>False</td>\n",
              "      <td>False</td>\n",
              "      <td>False</td>\n",
              "      <td>...</td>\n",
              "      <td>False</td>\n",
              "      <td>False</td>\n",
              "      <td>False</td>\n",
              "      <td>False</td>\n",
              "      <td>False</td>\n",
              "      <td>False</td>\n",
              "      <td>False</td>\n",
              "      <td>False</td>\n",
              "      <td>False</td>\n",
              "      <td>False</td>\n",
              "    </tr>\n",
              "    <tr>\n",
              "      <th>1996</th>\n",
              "      <td>False</td>\n",
              "      <td>False</td>\n",
              "      <td>False</td>\n",
              "      <td>False</td>\n",
              "      <td>False</td>\n",
              "      <td>False</td>\n",
              "      <td>False</td>\n",
              "      <td>False</td>\n",
              "      <td>False</td>\n",
              "      <td>False</td>\n",
              "      <td>...</td>\n",
              "      <td>False</td>\n",
              "      <td>False</td>\n",
              "      <td>False</td>\n",
              "      <td>False</td>\n",
              "      <td>False</td>\n",
              "      <td>False</td>\n",
              "      <td>False</td>\n",
              "      <td>False</td>\n",
              "      <td>False</td>\n",
              "      <td>False</td>\n",
              "    </tr>\n",
              "    <tr>\n",
              "      <th>1997</th>\n",
              "      <td>False</td>\n",
              "      <td>False</td>\n",
              "      <td>False</td>\n",
              "      <td>False</td>\n",
              "      <td>False</td>\n",
              "      <td>False</td>\n",
              "      <td>False</td>\n",
              "      <td>False</td>\n",
              "      <td>False</td>\n",
              "      <td>False</td>\n",
              "      <td>...</td>\n",
              "      <td>False</td>\n",
              "      <td>False</td>\n",
              "      <td>False</td>\n",
              "      <td>False</td>\n",
              "      <td>False</td>\n",
              "      <td>False</td>\n",
              "      <td>False</td>\n",
              "      <td>False</td>\n",
              "      <td>False</td>\n",
              "      <td>False</td>\n",
              "    </tr>\n",
              "    <tr>\n",
              "      <th>1998</th>\n",
              "      <td>False</td>\n",
              "      <td>False</td>\n",
              "      <td>False</td>\n",
              "      <td>False</td>\n",
              "      <td>False</td>\n",
              "      <td>False</td>\n",
              "      <td>False</td>\n",
              "      <td>False</td>\n",
              "      <td>False</td>\n",
              "      <td>False</td>\n",
              "      <td>...</td>\n",
              "      <td>False</td>\n",
              "      <td>False</td>\n",
              "      <td>False</td>\n",
              "      <td>False</td>\n",
              "      <td>False</td>\n",
              "      <td>False</td>\n",
              "      <td>False</td>\n",
              "      <td>False</td>\n",
              "      <td>False</td>\n",
              "      <td>False</td>\n",
              "    </tr>\n",
              "    <tr>\n",
              "      <th>1999</th>\n",
              "      <td>False</td>\n",
              "      <td>False</td>\n",
              "      <td>False</td>\n",
              "      <td>False</td>\n",
              "      <td>False</td>\n",
              "      <td>False</td>\n",
              "      <td>False</td>\n",
              "      <td>False</td>\n",
              "      <td>False</td>\n",
              "      <td>False</td>\n",
              "      <td>...</td>\n",
              "      <td>False</td>\n",
              "      <td>False</td>\n",
              "      <td>False</td>\n",
              "      <td>False</td>\n",
              "      <td>False</td>\n",
              "      <td>False</td>\n",
              "      <td>False</td>\n",
              "      <td>False</td>\n",
              "      <td>False</td>\n",
              "      <td>False</td>\n",
              "    </tr>\n",
              "  </tbody>\n",
              "</table>\n",
              "<p>2000 rows × 21 columns</p>\n",
              "</div>"
            ],
            "text/plain": [
              "      battery_power   blue  clock_speed  dual_sim     fc  four_g  int_memory  \\\n",
              "0             False  False        False     False  False   False       False   \n",
              "1             False  False        False     False  False   False       False   \n",
              "2             False  False        False     False  False   False       False   \n",
              "3             False  False        False     False  False   False       False   \n",
              "4             False  False        False     False  False   False       False   \n",
              "...             ...    ...          ...       ...    ...     ...         ...   \n",
              "1995          False  False        False     False  False   False       False   \n",
              "1996          False  False        False     False  False   False       False   \n",
              "1997          False  False        False     False  False   False       False   \n",
              "1998          False  False        False     False  False   False       False   \n",
              "1999          False  False        False     False  False   False       False   \n",
              "\n",
              "      m_dep  mobile_wt  n_cores  ...  px_height  px_width    ram   sc_h  \\\n",
              "0     False      False    False  ...      False     False  False  False   \n",
              "1     False      False    False  ...      False     False  False  False   \n",
              "2     False      False    False  ...      False     False  False  False   \n",
              "3     False      False    False  ...      False     False  False  False   \n",
              "4     False      False    False  ...      False     False  False  False   \n",
              "...     ...        ...      ...  ...        ...       ...    ...    ...   \n",
              "1995  False      False    False  ...      False     False  False  False   \n",
              "1996  False      False    False  ...      False     False  False  False   \n",
              "1997  False      False    False  ...      False     False  False  False   \n",
              "1998  False      False    False  ...      False     False  False  False   \n",
              "1999  False      False    False  ...      False     False  False  False   \n",
              "\n",
              "       sc_w  talk_time  three_g  touch_screen   wifi  price_range  \n",
              "0     False      False    False         False  False        False  \n",
              "1     False      False    False         False  False        False  \n",
              "2     False      False    False         False  False        False  \n",
              "3     False      False    False         False  False        False  \n",
              "4     False      False    False         False  False        False  \n",
              "...     ...        ...      ...           ...    ...          ...  \n",
              "1995  False      False    False         False  False        False  \n",
              "1996  False      False    False         False  False        False  \n",
              "1997  False      False    False         False  False        False  \n",
              "1998  False      False    False         False  False        False  \n",
              "1999  False      False    False         False  False        False  \n",
              "\n",
              "[2000 rows x 21 columns]"
            ]
          },
          "execution_count": 260,
          "metadata": {},
          "output_type": "execute_result"
        }
      ],
      "source": [
        "data_train.isnull() #Checking for null values for each feature"
      ]
    },
    {
      "cell_type": "code",
      "execution_count": null,
      "metadata": {
        "id": "CDQkeZzsoOT_",
        "outputId": "aafa9906-4ba9-4338-a5e2-ddfbd114fd2f"
      },
      "outputs": [
        {
          "data": {
            "text/plain": [
              "battery_power    0\n",
              "blue             0\n",
              "clock_speed      0\n",
              "dual_sim         0\n",
              "fc               0\n",
              "four_g           0\n",
              "int_memory       0\n",
              "m_dep            0\n",
              "mobile_wt        0\n",
              "n_cores          0\n",
              "pc               0\n",
              "px_height        0\n",
              "px_width         0\n",
              "ram              0\n",
              "sc_h             0\n",
              "sc_w             0\n",
              "talk_time        0\n",
              "three_g          0\n",
              "touch_screen     0\n",
              "wifi             0\n",
              "price_range      0\n",
              "dtype: int64"
            ]
          },
          "execution_count": 261,
          "metadata": {},
          "output_type": "execute_result"
        }
      ],
      "source": [
        "data_train.isnull().sum() #Checking count of null values for each feature"
      ]
    },
    {
      "cell_type": "code",
      "execution_count": null,
      "metadata": {
        "id": "kW83VZttoOUB",
        "outputId": "06dc2458-7978-4e8b-fbd9-c545bb5e0a2e"
      },
      "outputs": [
        {
          "name": "stdout",
          "output_type": "stream",
          "text": [
            "<class 'pandas.core.frame.DataFrame'>\n",
            "RangeIndex: 2000 entries, 0 to 1999\n",
            "Data columns (total 21 columns):\n",
            " #   Column         Non-Null Count  Dtype  \n",
            "---  ------         --------------  -----  \n",
            " 0   battery_power  2000 non-null   int64  \n",
            " 1   blue           2000 non-null   int64  \n",
            " 2   clock_speed    2000 non-null   float64\n",
            " 3   dual_sim       2000 non-null   int64  \n",
            " 4   fc             2000 non-null   int64  \n",
            " 5   four_g         2000 non-null   int64  \n",
            " 6   int_memory     2000 non-null   int64  \n",
            " 7   m_dep          2000 non-null   float64\n",
            " 8   mobile_wt      2000 non-null   int64  \n",
            " 9   n_cores        2000 non-null   int64  \n",
            " 10  pc             2000 non-null   int64  \n",
            " 11  px_height      2000 non-null   int64  \n",
            " 12  px_width       2000 non-null   int64  \n",
            " 13  ram            2000 non-null   int64  \n",
            " 14  sc_h           2000 non-null   int64  \n",
            " 15  sc_w           2000 non-null   int64  \n",
            " 16  talk_time      2000 non-null   int64  \n",
            " 17  three_g        2000 non-null   int64  \n",
            " 18  touch_screen   2000 non-null   int64  \n",
            " 19  wifi           2000 non-null   int64  \n",
            " 20  price_range    2000 non-null   int64  \n",
            "dtypes: float64(2), int64(19)\n",
            "memory usage: 328.2 KB\n"
          ]
        }
      ],
      "source": [
        "data_train.info() #Checking data type of each feature"
      ]
    },
    {
      "cell_type": "code",
      "execution_count": null,
      "metadata": {
        "id": "l_Yfg6ZLoOUB",
        "outputId": "c21c9d90-2dba-4704-fdd1-205621f64398"
      },
      "outputs": [
        {
          "data": {
            "text/html": [
              "<div>\n",
              "<style scoped>\n",
              "    .dataframe tbody tr th:only-of-type {\n",
              "        vertical-align: middle;\n",
              "    }\n",
              "\n",
              "    .dataframe tbody tr th {\n",
              "        vertical-align: top;\n",
              "    }\n",
              "\n",
              "    .dataframe thead th {\n",
              "        text-align: right;\n",
              "    }\n",
              "</style>\n",
              "<table border=\"1\" class=\"dataframe\">\n",
              "  <thead>\n",
              "    <tr style=\"text-align: right;\">\n",
              "      <th></th>\n",
              "      <th>battery_power</th>\n",
              "      <th>blue</th>\n",
              "      <th>clock_speed</th>\n",
              "      <th>dual_sim</th>\n",
              "      <th>fc</th>\n",
              "      <th>four_g</th>\n",
              "      <th>int_memory</th>\n",
              "      <th>m_dep</th>\n",
              "      <th>mobile_wt</th>\n",
              "      <th>n_cores</th>\n",
              "      <th>...</th>\n",
              "      <th>px_height</th>\n",
              "      <th>px_width</th>\n",
              "      <th>ram</th>\n",
              "      <th>sc_h</th>\n",
              "      <th>sc_w</th>\n",
              "      <th>talk_time</th>\n",
              "      <th>three_g</th>\n",
              "      <th>touch_screen</th>\n",
              "      <th>wifi</th>\n",
              "      <th>price_range</th>\n",
              "    </tr>\n",
              "  </thead>\n",
              "  <tbody>\n",
              "    <tr>\n",
              "      <th>count</th>\n",
              "      <td>2000.000000</td>\n",
              "      <td>2000.0000</td>\n",
              "      <td>2000.000000</td>\n",
              "      <td>2000.000000</td>\n",
              "      <td>2000.000000</td>\n",
              "      <td>2000.000000</td>\n",
              "      <td>2000.000000</td>\n",
              "      <td>2000.000000</td>\n",
              "      <td>2000.000000</td>\n",
              "      <td>2000.000000</td>\n",
              "      <td>...</td>\n",
              "      <td>2000.000000</td>\n",
              "      <td>2000.000000</td>\n",
              "      <td>2000.000000</td>\n",
              "      <td>2000.000000</td>\n",
              "      <td>2000.000000</td>\n",
              "      <td>2000.000000</td>\n",
              "      <td>2000.000000</td>\n",
              "      <td>2000.000000</td>\n",
              "      <td>2000.000000</td>\n",
              "      <td>2000.000000</td>\n",
              "    </tr>\n",
              "    <tr>\n",
              "      <th>mean</th>\n",
              "      <td>1238.518500</td>\n",
              "      <td>0.4950</td>\n",
              "      <td>1.522250</td>\n",
              "      <td>0.509500</td>\n",
              "      <td>4.309500</td>\n",
              "      <td>0.521500</td>\n",
              "      <td>32.046500</td>\n",
              "      <td>0.501750</td>\n",
              "      <td>140.249000</td>\n",
              "      <td>4.520500</td>\n",
              "      <td>...</td>\n",
              "      <td>645.108000</td>\n",
              "      <td>1251.515500</td>\n",
              "      <td>2124.213000</td>\n",
              "      <td>12.306500</td>\n",
              "      <td>5.767000</td>\n",
              "      <td>11.011000</td>\n",
              "      <td>0.761500</td>\n",
              "      <td>0.503000</td>\n",
              "      <td>0.507000</td>\n",
              "      <td>1.500000</td>\n",
              "    </tr>\n",
              "    <tr>\n",
              "      <th>std</th>\n",
              "      <td>439.418206</td>\n",
              "      <td>0.5001</td>\n",
              "      <td>0.816004</td>\n",
              "      <td>0.500035</td>\n",
              "      <td>4.341444</td>\n",
              "      <td>0.499662</td>\n",
              "      <td>18.145715</td>\n",
              "      <td>0.288416</td>\n",
              "      <td>35.399655</td>\n",
              "      <td>2.287837</td>\n",
              "      <td>...</td>\n",
              "      <td>443.780811</td>\n",
              "      <td>432.199447</td>\n",
              "      <td>1084.732044</td>\n",
              "      <td>4.213245</td>\n",
              "      <td>4.356398</td>\n",
              "      <td>5.463955</td>\n",
              "      <td>0.426273</td>\n",
              "      <td>0.500116</td>\n",
              "      <td>0.500076</td>\n",
              "      <td>1.118314</td>\n",
              "    </tr>\n",
              "    <tr>\n",
              "      <th>min</th>\n",
              "      <td>501.000000</td>\n",
              "      <td>0.0000</td>\n",
              "      <td>0.500000</td>\n",
              "      <td>0.000000</td>\n",
              "      <td>0.000000</td>\n",
              "      <td>0.000000</td>\n",
              "      <td>2.000000</td>\n",
              "      <td>0.100000</td>\n",
              "      <td>80.000000</td>\n",
              "      <td>1.000000</td>\n",
              "      <td>...</td>\n",
              "      <td>0.000000</td>\n",
              "      <td>500.000000</td>\n",
              "      <td>256.000000</td>\n",
              "      <td>5.000000</td>\n",
              "      <td>0.000000</td>\n",
              "      <td>2.000000</td>\n",
              "      <td>0.000000</td>\n",
              "      <td>0.000000</td>\n",
              "      <td>0.000000</td>\n",
              "      <td>0.000000</td>\n",
              "    </tr>\n",
              "    <tr>\n",
              "      <th>25%</th>\n",
              "      <td>851.750000</td>\n",
              "      <td>0.0000</td>\n",
              "      <td>0.700000</td>\n",
              "      <td>0.000000</td>\n",
              "      <td>1.000000</td>\n",
              "      <td>0.000000</td>\n",
              "      <td>16.000000</td>\n",
              "      <td>0.200000</td>\n",
              "      <td>109.000000</td>\n",
              "      <td>3.000000</td>\n",
              "      <td>...</td>\n",
              "      <td>282.750000</td>\n",
              "      <td>874.750000</td>\n",
              "      <td>1207.500000</td>\n",
              "      <td>9.000000</td>\n",
              "      <td>2.000000</td>\n",
              "      <td>6.000000</td>\n",
              "      <td>1.000000</td>\n",
              "      <td>0.000000</td>\n",
              "      <td>0.000000</td>\n",
              "      <td>0.750000</td>\n",
              "    </tr>\n",
              "    <tr>\n",
              "      <th>50%</th>\n",
              "      <td>1226.000000</td>\n",
              "      <td>0.0000</td>\n",
              "      <td>1.500000</td>\n",
              "      <td>1.000000</td>\n",
              "      <td>3.000000</td>\n",
              "      <td>1.000000</td>\n",
              "      <td>32.000000</td>\n",
              "      <td>0.500000</td>\n",
              "      <td>141.000000</td>\n",
              "      <td>4.000000</td>\n",
              "      <td>...</td>\n",
              "      <td>564.000000</td>\n",
              "      <td>1247.000000</td>\n",
              "      <td>2146.500000</td>\n",
              "      <td>12.000000</td>\n",
              "      <td>5.000000</td>\n",
              "      <td>11.000000</td>\n",
              "      <td>1.000000</td>\n",
              "      <td>1.000000</td>\n",
              "      <td>1.000000</td>\n",
              "      <td>1.500000</td>\n",
              "    </tr>\n",
              "    <tr>\n",
              "      <th>75%</th>\n",
              "      <td>1615.250000</td>\n",
              "      <td>1.0000</td>\n",
              "      <td>2.200000</td>\n",
              "      <td>1.000000</td>\n",
              "      <td>7.000000</td>\n",
              "      <td>1.000000</td>\n",
              "      <td>48.000000</td>\n",
              "      <td>0.800000</td>\n",
              "      <td>170.000000</td>\n",
              "      <td>7.000000</td>\n",
              "      <td>...</td>\n",
              "      <td>947.250000</td>\n",
              "      <td>1633.000000</td>\n",
              "      <td>3064.500000</td>\n",
              "      <td>16.000000</td>\n",
              "      <td>9.000000</td>\n",
              "      <td>16.000000</td>\n",
              "      <td>1.000000</td>\n",
              "      <td>1.000000</td>\n",
              "      <td>1.000000</td>\n",
              "      <td>2.250000</td>\n",
              "    </tr>\n",
              "    <tr>\n",
              "      <th>max</th>\n",
              "      <td>1998.000000</td>\n",
              "      <td>1.0000</td>\n",
              "      <td>3.000000</td>\n",
              "      <td>1.000000</td>\n",
              "      <td>19.000000</td>\n",
              "      <td>1.000000</td>\n",
              "      <td>64.000000</td>\n",
              "      <td>1.000000</td>\n",
              "      <td>200.000000</td>\n",
              "      <td>8.000000</td>\n",
              "      <td>...</td>\n",
              "      <td>1960.000000</td>\n",
              "      <td>1998.000000</td>\n",
              "      <td>3998.000000</td>\n",
              "      <td>19.000000</td>\n",
              "      <td>18.000000</td>\n",
              "      <td>20.000000</td>\n",
              "      <td>1.000000</td>\n",
              "      <td>1.000000</td>\n",
              "      <td>1.000000</td>\n",
              "      <td>3.000000</td>\n",
              "    </tr>\n",
              "  </tbody>\n",
              "</table>\n",
              "<p>8 rows × 21 columns</p>\n",
              "</div>"
            ],
            "text/plain": [
              "       battery_power       blue  clock_speed     dual_sim           fc  \\\n",
              "count    2000.000000  2000.0000  2000.000000  2000.000000  2000.000000   \n",
              "mean     1238.518500     0.4950     1.522250     0.509500     4.309500   \n",
              "std       439.418206     0.5001     0.816004     0.500035     4.341444   \n",
              "min       501.000000     0.0000     0.500000     0.000000     0.000000   \n",
              "25%       851.750000     0.0000     0.700000     0.000000     1.000000   \n",
              "50%      1226.000000     0.0000     1.500000     1.000000     3.000000   \n",
              "75%      1615.250000     1.0000     2.200000     1.000000     7.000000   \n",
              "max      1998.000000     1.0000     3.000000     1.000000    19.000000   \n",
              "\n",
              "            four_g   int_memory        m_dep    mobile_wt      n_cores  ...  \\\n",
              "count  2000.000000  2000.000000  2000.000000  2000.000000  2000.000000  ...   \n",
              "mean      0.521500    32.046500     0.501750   140.249000     4.520500  ...   \n",
              "std       0.499662    18.145715     0.288416    35.399655     2.287837  ...   \n",
              "min       0.000000     2.000000     0.100000    80.000000     1.000000  ...   \n",
              "25%       0.000000    16.000000     0.200000   109.000000     3.000000  ...   \n",
              "50%       1.000000    32.000000     0.500000   141.000000     4.000000  ...   \n",
              "75%       1.000000    48.000000     0.800000   170.000000     7.000000  ...   \n",
              "max       1.000000    64.000000     1.000000   200.000000     8.000000  ...   \n",
              "\n",
              "         px_height     px_width          ram         sc_h         sc_w  \\\n",
              "count  2000.000000  2000.000000  2000.000000  2000.000000  2000.000000   \n",
              "mean    645.108000  1251.515500  2124.213000    12.306500     5.767000   \n",
              "std     443.780811   432.199447  1084.732044     4.213245     4.356398   \n",
              "min       0.000000   500.000000   256.000000     5.000000     0.000000   \n",
              "25%     282.750000   874.750000  1207.500000     9.000000     2.000000   \n",
              "50%     564.000000  1247.000000  2146.500000    12.000000     5.000000   \n",
              "75%     947.250000  1633.000000  3064.500000    16.000000     9.000000   \n",
              "max    1960.000000  1998.000000  3998.000000    19.000000    18.000000   \n",
              "\n",
              "         talk_time      three_g  touch_screen         wifi  price_range  \n",
              "count  2000.000000  2000.000000   2000.000000  2000.000000  2000.000000  \n",
              "mean     11.011000     0.761500      0.503000     0.507000     1.500000  \n",
              "std       5.463955     0.426273      0.500116     0.500076     1.118314  \n",
              "min       2.000000     0.000000      0.000000     0.000000     0.000000  \n",
              "25%       6.000000     1.000000      0.000000     0.000000     0.750000  \n",
              "50%      11.000000     1.000000      1.000000     1.000000     1.500000  \n",
              "75%      16.000000     1.000000      1.000000     1.000000     2.250000  \n",
              "max      20.000000     1.000000      1.000000     1.000000     3.000000  \n",
              "\n",
              "[8 rows x 21 columns]"
            ]
          },
          "execution_count": 214,
          "metadata": {},
          "output_type": "execute_result"
        }
      ],
      "source": [
        "data_train.describe() #Overview of the dataset"
      ]
    },
    {
      "cell_type": "code",
      "execution_count": null,
      "metadata": {
        "id": "WOWAH-WxoOUC",
        "outputId": "c037a398-5683-48dd-e7d4-6453a39a612d"
      },
      "outputs": [
        {
          "data": {
            "image/png": "[encoded data removed]",
            "text/plain": [
              "<Figure size 432x288 with 1 Axes>"
            ]
          },
          "metadata": {
            "needs_background": "light"
          },
          "output_type": "display_data"
        }
      ],
      "source": [
        "data_train.plot(x = 'price_range', y = 'ram', kind = 'scatter')\n",
        "plt.show()"
      ]
    },
    {
      "cell_type": "code",
      "execution_count": null,
      "metadata": {
        "id": "GgfMqe3poOUC",
        "outputId": "20c0b694-8bba-4f4e-c3e4-8a48e5a77891"
      },
      "outputs": [
        {
          "data": {
            "image/png": "[encoded data removed]",
            "text/plain": [
              "<Figure size 432x288 with 1 Axes>"
            ]
          },
          "metadata": {
            "needs_background": "light"
          },
          "output_type": "display_data"
        }
      ],
      "source": [
        "data_train.plot(x = 'price_range', y = 'battery_power', kind = 'scatter')\n",
        "plt.show()"
      ]
    },
    {
      "cell_type": "code",
      "execution_count": null,
      "metadata": {
        "id": "Bl-ELe-5oOUD",
        "outputId": "f5c8411f-bc69-4dd6-962f-b3d15278c23c"
      },
      "outputs": [
        {
          "data": {
            "image/png": "[encoded data removed]",
            "text/plain": [
              "<Figure size 432x288 with 1 Axes>"
            ]
          },
          "metadata": {
            "needs_background": "light"
          },
          "output_type": "display_data"
        }
      ],
      "source": [
        "data_train.plot(x = 'price_range', y = 'wifi', kind = 'scatter')\n",
        "plt.show()"
      ]
    },
    {
      "cell_type": "markdown",
      "source": [
        "#Splitting Data"
      ],
      "metadata": {
        "id": "UDqxjulyqW7t"
      }
    },
    {
      "cell_type": "code",
      "execution_count": null,
      "metadata": {
        "id": "QlhAVPaGoOUD"
      },
      "outputs": [],
      "source": [
        "X = data_train.drop('price_range', axis = 1) "
      ]
    },
    {
      "cell_type": "code",
      "execution_count": null,
      "metadata": {
        "id": "KZg7IOFxoOUF"
      },
      "outputs": [],
      "source": [
        "Y = data_train['price_range']"
      ]
    },
    {
      "cell_type": "code",
      "execution_count": null,
      "metadata": {
        "id": "D-rhOHVvoOUF",
        "outputId": "2546fde4-c2f5-49b0-c81c-5ebb34907ea7"
      },
      "outputs": [
        {
          "data": {
            "text/plain": [
              "0       1\n",
              "1       2\n",
              "2       2\n",
              "3       2\n",
              "4       1\n",
              "       ..\n",
              "1995    0\n",
              "1996    2\n",
              "1997    3\n",
              "1998    0\n",
              "1999    3\n",
              "Name: price_range, Length: 2000, dtype: int64"
            ]
          },
          "execution_count": 223,
          "metadata": {},
          "output_type": "execute_result"
        }
      ],
      "source": [
        "Y"
      ]
    },
    {
      "cell_type": "code",
      "execution_count": null,
      "metadata": {
        "id": "9s_dhghIoOUG"
      },
      "outputs": [],
      "source": [
        "from sklearn.model_selection import train_test_split"
      ]
    },
    {
      "cell_type": "code",
      "execution_count": null,
      "metadata": {
        "id": "GAK0aDuuoOUH"
      },
      "outputs": [],
      "source": [
        "X_train, X_test, Y_train, Y_test = train_test_split(X, Y, test_size = 0.2, random_state = 1) "
      ]
    },
    {
      "cell_type": "code",
      "execution_count": null,
      "metadata": {
        "id": "-129ZNDwoOUH",
        "outputId": "7513a259-68a5-4331-f2c2-f7402ca11fa2"
      },
      "outputs": [
        {
          "data": {
            "text/html": [
              "<div>\n",
              "<style scoped>\n",
              "    .dataframe tbody tr th:only-of-type {\n",
              "        vertical-align: middle;\n",
              "    }\n",
              "\n",
              "    .dataframe tbody tr th {\n",
              "        vertical-align: top;\n",
              "    }\n",
              "\n",
              "    .dataframe thead th {\n",
              "        text-align: right;\n",
              "    }\n",
              "</style>\n",
              "<table border=\"1\" class=\"dataframe\">\n",
              "  <thead>\n",
              "    <tr style=\"text-align: right;\">\n",
              "      <th></th>\n",
              "      <th>battery_power</th>\n",
              "      <th>blue</th>\n",
              "      <th>clock_speed</th>\n",
              "      <th>dual_sim</th>\n",
              "      <th>fc</th>\n",
              "      <th>four_g</th>\n",
              "      <th>int_memory</th>\n",
              "      <th>m_dep</th>\n",
              "      <th>mobile_wt</th>\n",
              "      <th>n_cores</th>\n",
              "      <th>pc</th>\n",
              "      <th>px_height</th>\n",
              "      <th>px_width</th>\n",
              "      <th>ram</th>\n",
              "      <th>sc_h</th>\n",
              "      <th>sc_w</th>\n",
              "      <th>talk_time</th>\n",
              "      <th>three_g</th>\n",
              "      <th>touch_screen</th>\n",
              "      <th>wifi</th>\n",
              "    </tr>\n",
              "  </thead>\n",
              "  <tbody>\n",
              "    <tr>\n",
              "      <th>0</th>\n",
              "      <td>842</td>\n",
              "      <td>0</td>\n",
              "      <td>2.2</td>\n",
              "      <td>0</td>\n",
              "      <td>1</td>\n",
              "      <td>0</td>\n",
              "      <td>7</td>\n",
              "      <td>0.6</td>\n",
              "      <td>188</td>\n",
              "      <td>2</td>\n",
              "      <td>2</td>\n",
              "      <td>20</td>\n",
              "      <td>756</td>\n",
              "      <td>2549</td>\n",
              "      <td>9</td>\n",
              "      <td>7</td>\n",
              "      <td>19</td>\n",
              "      <td>0</td>\n",
              "      <td>0</td>\n",
              "      <td>1</td>\n",
              "    </tr>\n",
              "    <tr>\n",
              "      <th>816</th>\n",
              "      <td>805</td>\n",
              "      <td>1</td>\n",
              "      <td>0.7</td>\n",
              "      <td>0</td>\n",
              "      <td>0</td>\n",
              "      <td>0</td>\n",
              "      <td>64</td>\n",
              "      <td>0.1</td>\n",
              "      <td>97</td>\n",
              "      <td>4</td>\n",
              "      <td>14</td>\n",
              "      <td>641</td>\n",
              "      <td>704</td>\n",
              "      <td>418</td>\n",
              "      <td>11</td>\n",
              "      <td>6</td>\n",
              "      <td>17</td>\n",
              "      <td>0</td>\n",
              "      <td>1</td>\n",
              "      <td>1</td>\n",
              "    </tr>\n",
              "    <tr>\n",
              "      <th>790</th>\n",
              "      <td>911</td>\n",
              "      <td>1</td>\n",
              "      <td>2.9</td>\n",
              "      <td>0</td>\n",
              "      <td>0</td>\n",
              "      <td>0</td>\n",
              "      <td>46</td>\n",
              "      <td>0.1</td>\n",
              "      <td>181</td>\n",
              "      <td>5</td>\n",
              "      <td>1</td>\n",
              "      <td>461</td>\n",
              "      <td>670</td>\n",
              "      <td>363</td>\n",
              "      <td>9</td>\n",
              "      <td>5</td>\n",
              "      <td>17</td>\n",
              "      <td>0</td>\n",
              "      <td>1</td>\n",
              "      <td>0</td>\n",
              "    </tr>\n",
              "    <tr>\n",
              "      <th>361</th>\n",
              "      <td>899</td>\n",
              "      <td>0</td>\n",
              "      <td>0.5</td>\n",
              "      <td>1</td>\n",
              "      <td>13</td>\n",
              "      <td>1</td>\n",
              "      <td>57</td>\n",
              "      <td>0.9</td>\n",
              "      <td>172</td>\n",
              "      <td>2</td>\n",
              "      <td>18</td>\n",
              "      <td>788</td>\n",
              "      <td>1331</td>\n",
              "      <td>364</td>\n",
              "      <td>11</td>\n",
              "      <td>1</td>\n",
              "      <td>7</td>\n",
              "      <td>1</td>\n",
              "      <td>1</td>\n",
              "      <td>0</td>\n",
              "    </tr>\n",
              "    <tr>\n",
              "      <th>592</th>\n",
              "      <td>1263</td>\n",
              "      <td>0</td>\n",
              "      <td>0.5</td>\n",
              "      <td>0</td>\n",
              "      <td>12</td>\n",
              "      <td>0</td>\n",
              "      <td>64</td>\n",
              "      <td>0.3</td>\n",
              "      <td>175</td>\n",
              "      <td>5</td>\n",
              "      <td>18</td>\n",
              "      <td>178</td>\n",
              "      <td>1883</td>\n",
              "      <td>1183</td>\n",
              "      <td>14</td>\n",
              "      <td>3</td>\n",
              "      <td>17</td>\n",
              "      <td>0</td>\n",
              "      <td>0</td>\n",
              "      <td>1</td>\n",
              "    </tr>\n",
              "    <tr>\n",
              "      <th>...</th>\n",
              "      <td>...</td>\n",
              "      <td>...</td>\n",
              "      <td>...</td>\n",
              "      <td>...</td>\n",
              "      <td>...</td>\n",
              "      <td>...</td>\n",
              "      <td>...</td>\n",
              "      <td>...</td>\n",
              "      <td>...</td>\n",
              "      <td>...</td>\n",
              "      <td>...</td>\n",
              "      <td>...</td>\n",
              "      <td>...</td>\n",
              "      <td>...</td>\n",
              "      <td>...</td>\n",
              "      <td>...</td>\n",
              "      <td>...</td>\n",
              "      <td>...</td>\n",
              "      <td>...</td>\n",
              "      <td>...</td>\n",
              "    </tr>\n",
              "    <tr>\n",
              "      <th>1791</th>\n",
              "      <td>1203</td>\n",
              "      <td>1</td>\n",
              "      <td>0.5</td>\n",
              "      <td>1</td>\n",
              "      <td>0</td>\n",
              "      <td>1</td>\n",
              "      <td>11</td>\n",
              "      <td>0.9</td>\n",
              "      <td>109</td>\n",
              "      <td>2</td>\n",
              "      <td>12</td>\n",
              "      <td>35</td>\n",
              "      <td>510</td>\n",
              "      <td>1672</td>\n",
              "      <td>17</td>\n",
              "      <td>13</td>\n",
              "      <td>19</td>\n",
              "      <td>1</td>\n",
              "      <td>1</td>\n",
              "      <td>0</td>\n",
              "    </tr>\n",
              "    <tr>\n",
              "      <th>1096</th>\n",
              "      <td>1154</td>\n",
              "      <td>0</td>\n",
              "      <td>2.0</td>\n",
              "      <td>0</td>\n",
              "      <td>6</td>\n",
              "      <td>1</td>\n",
              "      <td>35</td>\n",
              "      <td>0.8</td>\n",
              "      <td>159</td>\n",
              "      <td>5</td>\n",
              "      <td>16</td>\n",
              "      <td>1003</td>\n",
              "      <td>1827</td>\n",
              "      <td>3262</td>\n",
              "      <td>16</td>\n",
              "      <td>15</td>\n",
              "      <td>16</td>\n",
              "      <td>1</td>\n",
              "      <td>0</td>\n",
              "      <td>0</td>\n",
              "    </tr>\n",
              "    <tr>\n",
              "      <th>1932</th>\n",
              "      <td>718</td>\n",
              "      <td>1</td>\n",
              "      <td>1.6</td>\n",
              "      <td>1</td>\n",
              "      <td>1</td>\n",
              "      <td>1</td>\n",
              "      <td>30</td>\n",
              "      <td>0.4</td>\n",
              "      <td>93</td>\n",
              "      <td>3</td>\n",
              "      <td>12</td>\n",
              "      <td>662</td>\n",
              "      <td>997</td>\n",
              "      <td>1601</td>\n",
              "      <td>10</td>\n",
              "      <td>9</td>\n",
              "      <td>12</td>\n",
              "      <td>1</td>\n",
              "      <td>1</td>\n",
              "      <td>1</td>\n",
              "    </tr>\n",
              "    <tr>\n",
              "      <th>235</th>\n",
              "      <td>1523</td>\n",
              "      <td>1</td>\n",
              "      <td>1.8</td>\n",
              "      <td>0</td>\n",
              "      <td>6</td>\n",
              "      <td>1</td>\n",
              "      <td>11</td>\n",
              "      <td>0.1</td>\n",
              "      <td>129</td>\n",
              "      <td>1</td>\n",
              "      <td>8</td>\n",
              "      <td>148</td>\n",
              "      <td>1606</td>\n",
              "      <td>707</td>\n",
              "      <td>19</td>\n",
              "      <td>8</td>\n",
              "      <td>19</td>\n",
              "      <td>1</td>\n",
              "      <td>1</td>\n",
              "      <td>0</td>\n",
              "    </tr>\n",
              "    <tr>\n",
              "      <th>1061</th>\n",
              "      <td>1522</td>\n",
              "      <td>1</td>\n",
              "      <td>0.7</td>\n",
              "      <td>1</td>\n",
              "      <td>4</td>\n",
              "      <td>0</td>\n",
              "      <td>28</td>\n",
              "      <td>0.2</td>\n",
              "      <td>124</td>\n",
              "      <td>1</td>\n",
              "      <td>5</td>\n",
              "      <td>952</td>\n",
              "      <td>1191</td>\n",
              "      <td>1368</td>\n",
              "      <td>14</td>\n",
              "      <td>5</td>\n",
              "      <td>17</td>\n",
              "      <td>1</td>\n",
              "      <td>0</td>\n",
              "      <td>1</td>\n",
              "    </tr>\n",
              "  </tbody>\n",
              "</table>\n",
              "<p>1600 rows × 20 columns</p>\n",
              "</div>"
            ],
            "text/plain": [
              "      battery_power  blue  clock_speed  dual_sim  fc  four_g  int_memory  \\\n",
              "0               842     0          2.2         0   1       0           7   \n",
              "816             805     1          0.7         0   0       0          64   \n",
              "790             911     1          2.9         0   0       0          46   \n",
              "361             899     0          0.5         1  13       1          57   \n",
              "592            1263     0          0.5         0  12       0          64   \n",
              "...             ...   ...          ...       ...  ..     ...         ...   \n",
              "1791           1203     1          0.5         1   0       1          11   \n",
              "1096           1154     0          2.0         0   6       1          35   \n",
              "1932            718     1          1.6         1   1       1          30   \n",
              "235            1523     1          1.8         0   6       1          11   \n",
              "1061           1522     1          0.7         1   4       0          28   \n",
              "\n",
              "      m_dep  mobile_wt  n_cores  pc  px_height  px_width   ram  sc_h  sc_w  \\\n",
              "0       0.6        188        2   2         20       756  2549     9     7   \n",
              "816     0.1         97        4  14        641       704   418    11     6   \n",
              "790     0.1        181        5   1        461       670   363     9     5   \n",
              "361     0.9        172        2  18        788      1331   364    11     1   \n",
              "592     0.3        175        5  18        178      1883  1183    14     3   \n",
              "...     ...        ...      ...  ..        ...       ...   ...   ...   ...   \n",
              "1791    0.9        109        2  12         35       510  1672    17    13   \n",
              "1096    0.8        159        5  16       1003      1827  3262    16    15   \n",
              "1932    0.4         93        3  12        662       997  1601    10     9   \n",
              "235     0.1        129        1   8        148      1606   707    19     8   \n",
              "1061    0.2        124        1   5        952      1191  1368    14     5   \n",
              "\n",
              "      talk_time  three_g  touch_screen  wifi  \n",
              "0            19        0             0     1  \n",
              "816          17        0             1     1  \n",
              "790          17        0             1     0  \n",
              "361           7        1             1     0  \n",
              "592          17        0             0     1  \n",
              "...         ...      ...           ...   ...  \n",
              "1791         19        1             1     0  \n",
              "1096         16        1             0     0  \n",
              "1932         12        1             1     1  \n",
              "235          19        1             1     0  \n",
              "1061         17        1             0     1  \n",
              "\n",
              "[1600 rows x 20 columns]"
            ]
          },
          "execution_count": 263,
          "metadata": {},
          "output_type": "execute_result"
        }
      ],
      "source": [
        "X_train"
      ]
    },
    {
      "cell_type": "code",
      "execution_count": null,
      "metadata": {
        "id": "JL_o4FZ6oOUH",
        "outputId": "71fe5990-f389-42f6-febc-68f3393ec6ee"
      },
      "outputs": [
        {
          "data": {
            "text/html": [
              "<div>\n",
              "<style scoped>\n",
              "    .dataframe tbody tr th:only-of-type {\n",
              "        vertical-align: middle;\n",
              "    }\n",
              "\n",
              "    .dataframe tbody tr th {\n",
              "        vertical-align: top;\n",
              "    }\n",
              "\n",
              "    .dataframe thead th {\n",
              "        text-align: right;\n",
              "    }\n",
              "</style>\n",
              "<table border=\"1\" class=\"dataframe\">\n",
              "  <thead>\n",
              "    <tr style=\"text-align: right;\">\n",
              "      <th></th>\n",
              "      <th>battery_power</th>\n",
              "      <th>blue</th>\n",
              "      <th>clock_speed</th>\n",
              "      <th>dual_sim</th>\n",
              "      <th>fc</th>\n",
              "      <th>four_g</th>\n",
              "      <th>int_memory</th>\n",
              "      <th>m_dep</th>\n",
              "      <th>mobile_wt</th>\n",
              "      <th>n_cores</th>\n",
              "      <th>pc</th>\n",
              "      <th>px_height</th>\n",
              "      <th>px_width</th>\n",
              "      <th>ram</th>\n",
              "      <th>sc_h</th>\n",
              "      <th>sc_w</th>\n",
              "      <th>talk_time</th>\n",
              "      <th>three_g</th>\n",
              "      <th>touch_screen</th>\n",
              "      <th>wifi</th>\n",
              "    </tr>\n",
              "  </thead>\n",
              "  <tbody>\n",
              "    <tr>\n",
              "      <th>674</th>\n",
              "      <td>1034</td>\n",
              "      <td>0</td>\n",
              "      <td>2.6</td>\n",
              "      <td>1</td>\n",
              "      <td>2</td>\n",
              "      <td>1</td>\n",
              "      <td>45</td>\n",
              "      <td>0.3</td>\n",
              "      <td>190</td>\n",
              "      <td>3</td>\n",
              "      <td>4</td>\n",
              "      <td>182</td>\n",
              "      <td>1293</td>\n",
              "      <td>969</td>\n",
              "      <td>15</td>\n",
              "      <td>1</td>\n",
              "      <td>7</td>\n",
              "      <td>1</td>\n",
              "      <td>0</td>\n",
              "      <td>0</td>\n",
              "    </tr>\n",
              "    <tr>\n",
              "      <th>1699</th>\n",
              "      <td>1002</td>\n",
              "      <td>1</td>\n",
              "      <td>1.8</td>\n",
              "      <td>0</td>\n",
              "      <td>1</td>\n",
              "      <td>0</td>\n",
              "      <td>45</td>\n",
              "      <td>0.7</td>\n",
              "      <td>180</td>\n",
              "      <td>7</td>\n",
              "      <td>7</td>\n",
              "      <td>948</td>\n",
              "      <td>1007</td>\n",
              "      <td>1234</td>\n",
              "      <td>19</td>\n",
              "      <td>13</td>\n",
              "      <td>18</td>\n",
              "      <td>1</td>\n",
              "      <td>1</td>\n",
              "      <td>0</td>\n",
              "    </tr>\n",
              "    <tr>\n",
              "      <th>1282</th>\n",
              "      <td>609</td>\n",
              "      <td>1</td>\n",
              "      <td>0.5</td>\n",
              "      <td>0</td>\n",
              "      <td>4</td>\n",
              "      <td>1</td>\n",
              "      <td>10</td>\n",
              "      <td>0.1</td>\n",
              "      <td>81</td>\n",
              "      <td>6</td>\n",
              "      <td>6</td>\n",
              "      <td>113</td>\n",
              "      <td>1524</td>\n",
              "      <td>1905</td>\n",
              "      <td>16</td>\n",
              "      <td>3</td>\n",
              "      <td>18</td>\n",
              "      <td>1</td>\n",
              "      <td>1</td>\n",
              "      <td>1</td>\n",
              "    </tr>\n",
              "    <tr>\n",
              "      <th>1315</th>\n",
              "      <td>1510</td>\n",
              "      <td>0</td>\n",
              "      <td>0.6</td>\n",
              "      <td>1</td>\n",
              "      <td>1</td>\n",
              "      <td>0</td>\n",
              "      <td>32</td>\n",
              "      <td>0.7</td>\n",
              "      <td>135</td>\n",
              "      <td>3</td>\n",
              "      <td>8</td>\n",
              "      <td>963</td>\n",
              "      <td>1520</td>\n",
              "      <td>854</td>\n",
              "      <td>8</td>\n",
              "      <td>2</td>\n",
              "      <td>10</td>\n",
              "      <td>1</td>\n",
              "      <td>0</td>\n",
              "      <td>1</td>\n",
              "    </tr>\n",
              "    <tr>\n",
              "      <th>1210</th>\n",
              "      <td>805</td>\n",
              "      <td>1</td>\n",
              "      <td>1.7</td>\n",
              "      <td>1</td>\n",
              "      <td>0</td>\n",
              "      <td>1</td>\n",
              "      <td>58</td>\n",
              "      <td>0.9</td>\n",
              "      <td>168</td>\n",
              "      <td>3</td>\n",
              "      <td>10</td>\n",
              "      <td>81</td>\n",
              "      <td>1544</td>\n",
              "      <td>3397</td>\n",
              "      <td>7</td>\n",
              "      <td>6</td>\n",
              "      <td>2</td>\n",
              "      <td>1</td>\n",
              "      <td>0</td>\n",
              "      <td>0</td>\n",
              "    </tr>\n",
              "    <tr>\n",
              "      <th>...</th>\n",
              "      <td>...</td>\n",
              "      <td>...</td>\n",
              "      <td>...</td>\n",
              "      <td>...</td>\n",
              "      <td>...</td>\n",
              "      <td>...</td>\n",
              "      <td>...</td>\n",
              "      <td>...</td>\n",
              "      <td>...</td>\n",
              "      <td>...</td>\n",
              "      <td>...</td>\n",
              "      <td>...</td>\n",
              "      <td>...</td>\n",
              "      <td>...</td>\n",
              "      <td>...</td>\n",
              "      <td>...</td>\n",
              "      <td>...</td>\n",
              "      <td>...</td>\n",
              "      <td>...</td>\n",
              "      <td>...</td>\n",
              "    </tr>\n",
              "    <tr>\n",
              "      <th>400</th>\n",
              "      <td>1266</td>\n",
              "      <td>0</td>\n",
              "      <td>1.9</td>\n",
              "      <td>1</td>\n",
              "      <td>0</td>\n",
              "      <td>1</td>\n",
              "      <td>7</td>\n",
              "      <td>0.2</td>\n",
              "      <td>184</td>\n",
              "      <td>3</td>\n",
              "      <td>12</td>\n",
              "      <td>346</td>\n",
              "      <td>1468</td>\n",
              "      <td>2532</td>\n",
              "      <td>10</td>\n",
              "      <td>5</td>\n",
              "      <td>4</td>\n",
              "      <td>1</td>\n",
              "      <td>1</td>\n",
              "      <td>1</td>\n",
              "    </tr>\n",
              "    <tr>\n",
              "      <th>763</th>\n",
              "      <td>1741</td>\n",
              "      <td>1</td>\n",
              "      <td>1.8</td>\n",
              "      <td>0</td>\n",
              "      <td>0</td>\n",
              "      <td>0</td>\n",
              "      <td>14</td>\n",
              "      <td>0.7</td>\n",
              "      <td>143</td>\n",
              "      <td>8</td>\n",
              "      <td>0</td>\n",
              "      <td>730</td>\n",
              "      <td>1895</td>\n",
              "      <td>3387</td>\n",
              "      <td>11</td>\n",
              "      <td>3</td>\n",
              "      <td>3</td>\n",
              "      <td>1</td>\n",
              "      <td>0</td>\n",
              "      <td>0</td>\n",
              "    </tr>\n",
              "    <tr>\n",
              "      <th>385</th>\n",
              "      <td>1880</td>\n",
              "      <td>1</td>\n",
              "      <td>1.8</td>\n",
              "      <td>0</td>\n",
              "      <td>4</td>\n",
              "      <td>1</td>\n",
              "      <td>18</td>\n",
              "      <td>0.7</td>\n",
              "      <td>138</td>\n",
              "      <td>3</td>\n",
              "      <td>5</td>\n",
              "      <td>71</td>\n",
              "      <td>699</td>\n",
              "      <td>3333</td>\n",
              "      <td>17</td>\n",
              "      <td>15</td>\n",
              "      <td>7</td>\n",
              "      <td>1</td>\n",
              "      <td>0</td>\n",
              "      <td>0</td>\n",
              "    </tr>\n",
              "    <tr>\n",
              "      <th>1667</th>\n",
              "      <td>1967</td>\n",
              "      <td>0</td>\n",
              "      <td>0.5</td>\n",
              "      <td>0</td>\n",
              "      <td>0</td>\n",
              "      <td>1</td>\n",
              "      <td>46</td>\n",
              "      <td>0.6</td>\n",
              "      <td>199</td>\n",
              "      <td>1</td>\n",
              "      <td>7</td>\n",
              "      <td>518</td>\n",
              "      <td>1374</td>\n",
              "      <td>1567</td>\n",
              "      <td>15</td>\n",
              "      <td>2</td>\n",
              "      <td>7</td>\n",
              "      <td>1</td>\n",
              "      <td>1</td>\n",
              "      <td>0</td>\n",
              "    </tr>\n",
              "    <tr>\n",
              "      <th>1820</th>\n",
              "      <td>665</td>\n",
              "      <td>1</td>\n",
              "      <td>0.7</td>\n",
              "      <td>0</td>\n",
              "      <td>0</td>\n",
              "      <td>1</td>\n",
              "      <td>31</td>\n",
              "      <td>0.1</td>\n",
              "      <td>185</td>\n",
              "      <td>5</td>\n",
              "      <td>2</td>\n",
              "      <td>496</td>\n",
              "      <td>1804</td>\n",
              "      <td>690</td>\n",
              "      <td>5</td>\n",
              "      <td>2</td>\n",
              "      <td>15</td>\n",
              "      <td>1</td>\n",
              "      <td>0</td>\n",
              "      <td>0</td>\n",
              "    </tr>\n",
              "  </tbody>\n",
              "</table>\n",
              "<p>400 rows × 20 columns</p>\n",
              "</div>"
            ],
            "text/plain": [
              "      battery_power  blue  clock_speed  dual_sim  fc  four_g  int_memory  \\\n",
              "674            1034     0          2.6         1   2       1          45   \n",
              "1699           1002     1          1.8         0   1       0          45   \n",
              "1282            609     1          0.5         0   4       1          10   \n",
              "1315           1510     0          0.6         1   1       0          32   \n",
              "1210            805     1          1.7         1   0       1          58   \n",
              "...             ...   ...          ...       ...  ..     ...         ...   \n",
              "400            1266     0          1.9         1   0       1           7   \n",
              "763            1741     1          1.8         0   0       0          14   \n",
              "385            1880     1          1.8         0   4       1          18   \n",
              "1667           1967     0          0.5         0   0       1          46   \n",
              "1820            665     1          0.7         0   0       1          31   \n",
              "\n",
              "      m_dep  mobile_wt  n_cores  pc  px_height  px_width   ram  sc_h  sc_w  \\\n",
              "674     0.3        190        3   4        182      1293   969    15     1   \n",
              "1699    0.7        180        7   7        948      1007  1234    19    13   \n",
              "1282    0.1         81        6   6        113      1524  1905    16     3   \n",
              "1315    0.7        135        3   8        963      1520   854     8     2   \n",
              "1210    0.9        168        3  10         81      1544  3397     7     6   \n",
              "...     ...        ...      ...  ..        ...       ...   ...   ...   ...   \n",
              "400     0.2        184        3  12        346      1468  2532    10     5   \n",
              "763     0.7        143        8   0        730      1895  3387    11     3   \n",
              "385     0.7        138        3   5         71       699  3333    17    15   \n",
              "1667    0.6        199        1   7        518      1374  1567    15     2   \n",
              "1820    0.1        185        5   2        496      1804   690     5     2   \n",
              "\n",
              "      talk_time  three_g  touch_screen  wifi  \n",
              "674           7        1             0     0  \n",
              "1699         18        1             1     0  \n",
              "1282         18        1             1     1  \n",
              "1315         10        1             0     1  \n",
              "1210          2        1             0     0  \n",
              "...         ...      ...           ...   ...  \n",
              "400           4        1             1     1  \n",
              "763           3        1             0     0  \n",
              "385           7        1             0     0  \n",
              "1667          7        1             1     0  \n",
              "1820         15        1             0     0  \n",
              "\n",
              "[400 rows x 20 columns]"
            ]
          },
          "execution_count": 227,
          "metadata": {},
          "output_type": "execute_result"
        }
      ],
      "source": [
        "X_test"
      ]
    },
    {
      "cell_type": "code",
      "execution_count": null,
      "metadata": {
        "id": "fM8aydyVoOUI",
        "outputId": "27a971d5-9046-4c57-9be9-56b98adf0b71"
      },
      "outputs": [
        {
          "data": {
            "text/plain": [
              "0       1\n",
              "816     0\n",
              "790     0\n",
              "361     0\n",
              "592     1\n",
              "       ..\n",
              "1791    0\n",
              "1096    3\n",
              "1932    1\n",
              "235     0\n",
              "1061    1\n",
              "Name: price_range, Length: 1600, dtype: int64"
            ]
          },
          "execution_count": 228,
          "metadata": {},
          "output_type": "execute_result"
        }
      ],
      "source": [
        "Y_train"
      ]
    },
    {
      "cell_type": "code",
      "execution_count": null,
      "metadata": {
        "id": "cIUDBzb5oOUI",
        "outputId": "cc22ce9a-f17f-410c-cc64-752121f82183"
      },
      "outputs": [
        {
          "data": {
            "text/plain": [
              "674     0\n",
              "1699    0\n",
              "1282    1\n",
              "1315    1\n",
              "1210    2\n",
              "       ..\n",
              "400     2\n",
              "763     3\n",
              "385     3\n",
              "1667    1\n",
              "1820    0\n",
              "Name: price_range, Length: 400, dtype: int64"
            ]
          },
          "execution_count": 229,
          "metadata": {},
          "output_type": "execute_result"
        }
      ],
      "source": [
        "Y_test"
      ]
    },
    {
      "cell_type": "code",
      "execution_count": null,
      "metadata": {
        "id": "KA-ikm_roOUI"
      },
      "outputs": [],
      "source": [
        "#Since all the values are in the dataset are in different ranges we need to scale down data before model training\n",
        "from sklearn.preprocessing import StandardScaler\n",
        "std = StandardScaler()"
      ]
    },
    {
      "cell_type": "code",
      "execution_count": null,
      "metadata": {
        "id": "ZUwKe4_UoOUJ"
      },
      "outputs": [],
      "source": [
        "#We do not need scaled values for decision tree but for KNN,Logistic Regression & Naive Bayes we do\n",
        "X_train_std = std.fit_transform(X_train)\n",
        "X_test_std = std.transform(X_test) "
      ]
    },
    {
      "cell_type": "code",
      "execution_count": null,
      "metadata": {
        "id": "dHbdEBkHoOUJ",
        "outputId": "ab82a77e-ed44-498d-a226-2239f3a18773"
      },
      "outputs": [
        {
          "data": {
            "text/plain": [
              "array([[-0.93181622, -0.99128795,  0.84170801, ..., -1.75545796,\n",
              "        -1.02020406,  0.98634324],\n",
              "       [-1.01674706,  1.00878862, -0.99558096, ..., -1.75545796,\n",
              "         0.98019606,  0.98634324],\n",
              "       [-0.77343166,  1.00878862,  1.69910954, ..., -1.75545796,\n",
              "         0.98019606, -1.01384584],\n",
              "       ...,\n",
              "       [-1.21644933,  1.00878862,  0.10679242, ...,  0.56965192,\n",
              "         0.98019606,  0.98634324],\n",
              "       [ 0.63137047,  1.00878862,  0.35176429, ...,  0.56965192,\n",
              "         0.98019606, -1.01384584],\n",
              "       [ 0.62907504,  1.00878862, -0.99558096, ...,  0.56965192,\n",
              "        -1.02020406,  0.98634324]])"
            ]
          },
          "execution_count": 232,
          "metadata": {},
          "output_type": "execute_result"
        }
      ],
      "source": [
        "X_train_std "
      ]
    },
    {
      "cell_type": "code",
      "execution_count": null,
      "metadata": {
        "id": "oz8u8z4ZoOUJ",
        "outputId": "60bcc012-c90b-4704-893b-324bf75e8215"
      },
      "outputs": [
        {
          "data": {
            "text/plain": [
              "array([[-0.49109398, -0.99128795,  1.33165174, ...,  0.56965192,\n",
              "        -1.02020406, -1.01384584],\n",
              "       [-0.56454768,  1.00878862,  0.35176429, ...,  0.56965192,\n",
              "         0.98019606, -1.01384584],\n",
              "       [-1.46665102,  1.00878862, -1.24055283, ...,  0.56965192,\n",
              "         0.98019606,  0.98634324],\n",
              "       ...,\n",
              "       [ 1.45083838,  1.00878862,  0.35176429, ...,  0.56965192,\n",
              "        -1.02020406, -1.01384584],\n",
              "       [ 1.65054065, -0.99128795, -1.24055283, ...,  0.56965192,\n",
              "         0.98019606, -1.01384584],\n",
              "       [-1.33810703,  1.00878862, -0.99558096, ...,  0.56965192,\n",
              "        -1.02020406, -1.01384584]])"
            ]
          },
          "execution_count": 233,
          "metadata": {},
          "output_type": "execute_result"
        }
      ],
      "source": [
        "X_test_std "
      ]
    },
    {
      "cell_type": "markdown",
      "metadata": {
        "id": "C9LjfEmsoOUJ"
      },
      "source": [
        "#Model Training"
      ]
    },
    {
      "cell_type": "markdown",
      "source": [
        "#K-Nearest Neighbor"
      ],
      "metadata": {
        "id": "WYz9HMNBpfhv"
      }
    },
    {
      "cell_type": "code",
      "execution_count": null,
      "metadata": {
        "id": "cBu6JkjmoOUL"
      },
      "outputs": [],
      "source": [
        "#KNN:\n",
        "from sklearn.neighbors import KNeighborsClassifier\n",
        "knn = KNeighborsClassifier()"
      ]
    },
    {
      "cell_type": "code",
      "execution_count": null,
      "metadata": {
        "id": "brKyxY4SoOUO",
        "outputId": "55a4080f-a7ba-461a-ac57-1abbf5f312a9"
      },
      "outputs": [
        {
          "data": {
            "text/plain": [
              "KNeighborsClassifier(algorithm='auto', leaf_size=30, metric='minkowski',\n",
              "                     metric_params=None, n_jobs=None, n_neighbors=5, p=2,\n",
              "                     weights='uniform')"
            ]
          },
          "execution_count": 243,
          "metadata": {},
          "output_type": "execute_result"
        }
      ],
      "source": [
        "knn.fit(X_train_std, Y_train) "
      ]
    },
    {
      "cell_type": "code",
      "execution_count": null,
      "metadata": {
        "id": "z5Kn-7FvoOUO"
      },
      "outputs": [],
      "source": [
        "Y_pred = knn.predict(X_test_std) "
      ]
    },
    {
      "cell_type": "code",
      "execution_count": null,
      "metadata": {
        "id": "5NXgmopioOUO",
        "outputId": "ee3d829d-edae-4fb4-b93d-6c8475d7cb95"
      },
      "outputs": [
        {
          "data": {
            "text/plain": [
              "array([0, 1, 1, 0, 1, 1, 0, 2, 1, 3, 0, 3, 2, 0, 2, 0, 1, 1, 1, 2, 3, 2,\n",
              "       1, 3, 3, 2, 2, 1, 1, 3, 1, 1, 2, 0, 3, 1, 0, 0, 1, 1, 0, 1, 2, 0,\n",
              "       0, 2, 1, 2, 0, 2, 1, 1, 0, 2, 2, 2, 0, 2, 2, 0, 0, 0, 0, 2, 0, 2,\n",
              "       0, 2, 2, 2, 1, 1, 0, 3, 3, 1, 3, 0, 1, 0, 0, 3, 2, 2, 3, 1, 2, 0,\n",
              "       2, 0, 1, 0, 0, 1, 2, 2, 2, 0, 1, 1, 1, 3, 0, 0, 2, 0, 0, 1, 1, 0,\n",
              "       0, 3, 2, 2, 2, 0, 1, 0, 1, 1, 1, 0, 0, 0, 3, 1, 1, 0, 1, 1, 0, 2,\n",
              "       0, 2, 2, 1, 2, 2, 2, 2, 0, 1, 3, 0, 1, 2, 0, 1, 0, 0, 2, 3, 1, 0,\n",
              "       0, 0, 1, 0, 1, 2, 2, 0, 2, 2, 3, 0, 3, 2, 3, 2, 1, 0, 1, 0, 1, 3,\n",
              "       2, 0, 1, 3, 0, 3, 0, 2, 1, 3, 3, 1, 1, 1, 2, 1, 2, 2, 0, 2, 1, 3,\n",
              "       2, 0, 3, 2, 0, 3, 2, 1, 2, 0, 0, 2, 1, 2, 2, 0, 3, 0, 1, 0, 1, 1,\n",
              "       2, 2, 2, 2, 2, 1, 0, 3, 2, 1, 0, 1, 3, 3, 1, 1, 0, 1, 2, 0, 1, 2,\n",
              "       1, 0, 0, 2, 1, 0, 3, 2, 2, 0, 0, 1, 1, 3, 1, 2, 1, 0, 1, 0, 1, 2,\n",
              "       2, 2, 2, 0, 1, 0, 3, 0, 0, 2, 2, 3, 0, 2, 1, 2, 3, 1, 1, 0, 2, 1,\n",
              "       1, 2, 0, 0, 1, 3, 1, 3, 0, 0, 2, 3, 3, 3, 0, 3, 0, 1, 1, 0, 1, 0,\n",
              "       1, 0, 1, 1, 3, 0, 0, 2, 3, 2, 2, 2, 3, 1, 2, 1, 1, 1, 0, 0, 3, 2,\n",
              "       3, 0, 1, 0, 1, 2, 1, 2, 2, 2, 3, 2, 2, 2, 0, 3, 3, 2, 3, 3, 1, 2,\n",
              "       1, 0, 1, 2, 2, 1, 1, 1, 2, 1, 2, 0, 1, 0, 1, 2, 0, 1, 1, 1, 2, 0,\n",
              "       2, 3, 3, 0, 3, 1, 1, 2, 3, 3, 3, 0, 3, 2, 0, 2, 3, 2, 2, 0, 1, 1,\n",
              "       2, 3, 2, 1], dtype=int64)"
            ]
          },
          "execution_count": 245,
          "metadata": {},
          "output_type": "execute_result"
        }
      ],
      "source": [
        "Y_pred"
      ]
    },
    {
      "cell_type": "code",
      "execution_count": null,
      "metadata": {
        "id": "mEz-UxmioOUP"
      },
      "outputs": [],
      "source": [
        "knn_ac = accuracy_score(Y_test, Y_pred)"
      ]
    },
    {
      "cell_type": "code",
      "execution_count": null,
      "metadata": {
        "id": "hsXnYAkzoOUQ",
        "outputId": "b559d224-bd6e-4530-a7c0-448116e30a39"
      },
      "outputs": [
        {
          "data": {
            "text/plain": [
              "0.5225"
            ]
          },
          "execution_count": 247,
          "metadata": {},
          "output_type": "execute_result"
        }
      ],
      "source": [
        "knn_ac"
      ]
    },
    {
      "cell_type": "code",
      "execution_count": null,
      "metadata": {
        "id": "PifTtciyoOUQ",
        "outputId": "17ec8c10-4248-451f-a918-de85239c1f37"
      },
      "outputs": [
        {
          "name": "stdout",
          "output_type": "stream",
          "text": [
            "Accuracy: 52.0%\n"
          ]
        }
      ],
      "source": [
        "print(f'Accuracy: {round(accuracy_score(Y_test, Y_pred), 2)*100}%')"
      ]
    },
    {
      "cell_type": "markdown",
      "source": [
        "#Logistic Regression"
      ],
      "metadata": {
        "id": "72nVSya0psfM"
      }
    },
    {
      "cell_type": "code",
      "execution_count": null,
      "metadata": {
        "id": "bbqaNZlUoOUQ"
      },
      "outputs": [],
      "source": [
        "#Logistic Regression \n",
        "from sklearn.linear_model import LogisticRegression\n",
        "lr = LogisticRegression()"
      ]
    },
    {
      "cell_type": "code",
      "execution_count": null,
      "metadata": {
        "id": "XAMubycdoOUR",
        "outputId": "e92674b3-66d1-4db5-c43f-d458d02052f5"
      },
      "outputs": [
        {
          "data": {
            "text/plain": [
              "LogisticRegression(C=1.0, class_weight=None, dual=False, fit_intercept=True,\n",
              "                   intercept_scaling=1, l1_ratio=None, max_iter=100,\n",
              "                   multi_class='auto', n_jobs=None, penalty='l2',\n",
              "                   random_state=None, solver='lbfgs', tol=0.0001, verbose=0,\n",
              "                   warm_start=False)"
            ]
          },
          "execution_count": 250,
          "metadata": {},
          "output_type": "execute_result"
        }
      ],
      "source": [
        "lr.fit(X_train_std, Y_train)"
      ]
    },
    {
      "cell_type": "code",
      "execution_count": null,
      "metadata": {
        "id": "qL9Uk-IKoOUS"
      },
      "outputs": [],
      "source": [
        "Y_pred = lr.predict(X_test_std)"
      ]
    },
    {
      "cell_type": "code",
      "execution_count": null,
      "metadata": {
        "id": "8E_qkkcIoOUS",
        "outputId": "6ad6efd1-c916-47d8-d913-c4bb2a588370"
      },
      "outputs": [
        {
          "data": {
            "text/plain": [
              "array([0, 0, 1, 1, 2, 2, 0, 2, 2, 3, 0, 3, 1, 1, 3, 0, 0, 1, 1, 1, 3, 3,\n",
              "       1, 2, 3, 2, 2, 3, 2, 2, 2, 1, 2, 0, 3, 3, 0, 0, 0, 0, 2, 1, 2, 1,\n",
              "       0, 1, 2, 2, 1, 2, 1, 3, 1, 3, 1, 3, 1, 3, 3, 1, 0, 2, 0, 3, 2, 1,\n",
              "       1, 2, 3, 2, 1, 2, 0, 3, 3, 1, 2, 1, 0, 0, 0, 3, 1, 2, 3, 2, 2, 0,\n",
              "       1, 1, 3, 0, 1, 1, 2, 3, 3, 0, 3, 3, 3, 3, 0, 1, 2, 0, 0, 1, 0, 2,\n",
              "       0, 3, 1, 1, 2, 2, 3, 1, 2, 1, 2, 0, 0, 0, 3, 0, 1, 1, 0, 1, 0, 2,\n",
              "       0, 3, 3, 0, 3, 2, 2, 1, 0, 0, 3, 1, 0, 2, 0, 0, 0, 1, 3, 3, 1, 1,\n",
              "       0, 2, 1, 0, 3, 1, 3, 1, 2, 2, 3, 1, 2, 2, 3, 2, 2, 0, 2, 2, 0, 3,\n",
              "       3, 0, 0, 3, 0, 3, 0, 0, 2, 3, 3, 1, 2, 1, 2, 3, 2, 2, 0, 1, 1, 3,\n",
              "       3, 1, 3, 2, 0, 1, 2, 2, 2, 1, 0, 2, 0, 3, 2, 0, 2, 0, 1, 0, 2, 1,\n",
              "       0, 1, 2, 1, 3, 3, 0, 3, 2, 1, 0, 2, 3, 3, 2, 1, 0, 1, 3, 2, 3, 2,\n",
              "       2, 1, 0, 1, 3, 0, 3, 3, 3, 1, 2, 1, 0, 1, 1, 3, 2, 0, 3, 1, 1, 1,\n",
              "       2, 1, 2, 0, 3, 2, 2, 0, 0, 1, 3, 3, 0, 1, 1, 2, 3, 2, 2, 2, 2, 0,\n",
              "       0, 3, 0, 0, 1, 3, 2, 3, 0, 0, 1, 2, 3, 2, 2, 2, 0, 0, 3, 1, 1, 0,\n",
              "       0, 0, 3, 1, 2, 1, 0, 2, 3, 1, 3, 3, 3, 1, 1, 1, 2, 1, 1, 0, 3, 3,\n",
              "       3, 1, 1, 0, 1, 2, 3, 2, 0, 3, 3, 2, 2, 2, 1, 2, 3, 2, 3, 2, 1, 3,\n",
              "       1, 0, 3, 1, 3, 1, 2, 2, 3, 0, 2, 0, 1, 1, 2, 3, 0, 0, 2, 3, 1, 0,\n",
              "       3, 3, 3, 0, 2, 2, 1, 3, 3, 3, 3, 0, 3, 2, 0, 1, 3, 2, 2, 0, 2, 2,\n",
              "       3, 3, 1, 0], dtype=int64)"
            ]
          },
          "execution_count": 252,
          "metadata": {},
          "output_type": "execute_result"
        }
      ],
      "source": [
        "Y_pred"
      ]
    },
    {
      "cell_type": "code",
      "execution_count": null,
      "metadata": {
        "id": "jCFSlk5ZoOUS"
      },
      "outputs": [],
      "source": [
        "lr_ac = accuracy_score(Y_test, Y_pred)"
      ]
    },
    {
      "cell_type": "code",
      "execution_count": null,
      "metadata": {
        "id": "anISTLNYoOUS",
        "outputId": "ae31c725-31d5-4f59-d635-9491b2c046e4"
      },
      "outputs": [
        {
          "name": "stdout",
          "output_type": "stream",
          "text": [
            "Accuracy: 96.0%\n"
          ]
        }
      ],
      "source": [
        "print(f'Accuracy: {round(accuracy_score(Y_test, Y_pred), 2)*100}%')"
      ]
    },
    {
      "cell_type": "markdown",
      "source": [
        "#Naive Bayes"
      ],
      "metadata": {
        "id": "fgj2tMtAyw-Y"
      }
    },
    {
      "cell_type": "code",
      "execution_count": null,
      "metadata": {
        "id": "75gtY-yQoOUT"
      },
      "outputs": [],
      "source": [
        "from sklearn.naive_bayes import GaussianNB\n",
        "gnb = GaussianNB()"
      ]
    },
    {
      "cell_type": "code",
      "execution_count": null,
      "metadata": {
        "id": "mVhspFYboOUT"
      },
      "outputs": [],
      "source": [
        "nb = gnb.fit(X_train_std, Y_train)"
      ]
    },
    {
      "cell_type": "code",
      "execution_count": null,
      "metadata": {
        "id": "XTLSFDeSoOUT"
      },
      "outputs": [],
      "source": [
        "Y_pred = nb.predict(X_test_std)"
      ]
    },
    {
      "cell_type": "code",
      "execution_count": null,
      "metadata": {
        "id": "Ipa9_cZ2oOUU",
        "outputId": "1e316ee1-1dd0-476e-99cb-1931abd7ea34"
      },
      "outputs": [
        {
          "data": {
            "text/plain": [
              "array([0, 1, 1, 0, 3, 1, 1, 2, 2, 3, 0, 3, 1, 1, 3, 0, 0, 1, 1, 2, 3, 3,\n",
              "       1, 2, 3, 2, 2, 2, 1, 2, 2, 1, 2, 0, 3, 3, 0, 0, 1, 0, 1, 0, 2, 1,\n",
              "       0, 1, 3, 2, 1, 2, 2, 3, 1, 3, 2, 3, 2, 3, 3, 1, 0, 2, 1, 2, 1, 2,\n",
              "       1, 2, 3, 2, 1, 2, 0, 2, 3, 1, 2, 1, 0, 0, 0, 3, 2, 2, 3, 2, 3, 0,\n",
              "       2, 1, 3, 0, 1, 2, 1, 3, 3, 0, 2, 3, 3, 3, 0, 2, 2, 1, 1, 1, 0, 2,\n",
              "       0, 3, 1, 1, 2, 2, 3, 1, 1, 1, 2, 0, 0, 0, 3, 0, 0, 0, 1, 1, 0, 3,\n",
              "       0, 3, 3, 0, 3, 2, 2, 1, 0, 0, 2, 1, 0, 3, 0, 1, 0, 1, 3, 3, 2, 1,\n",
              "       0, 1, 1, 0, 3, 1, 3, 1, 3, 2, 3, 2, 2, 1, 3, 2, 2, 0, 2, 2, 0, 3,\n",
              "       3, 0, 0, 3, 0, 3, 0, 0, 2, 3, 3, 1, 2, 2, 2, 3, 1, 3, 0, 1, 2, 3,\n",
              "       3, 1, 3, 2, 0, 1, 2, 2, 2, 1, 0, 1, 0, 2, 1, 0, 2, 0, 2, 0, 1, 1,\n",
              "       0, 1, 2, 1, 3, 3, 1, 2, 2, 1, 1, 2, 3, 3, 2, 1, 0, 1, 2, 1, 2, 3,\n",
              "       2, 2, 0, 1, 2, 0, 3, 3, 3, 0, 2, 1, 0, 2, 1, 3, 2, 0, 3, 1, 1, 1,\n",
              "       2, 1, 2, 0, 3, 2, 2, 1, 0, 1, 2, 3, 1, 1, 1, 2, 3, 1, 1, 2, 2, 0,\n",
              "       0, 3, 0, 0, 1, 3, 2, 3, 0, 0, 1, 2, 3, 2, 1, 2, 0, 0, 3, 1, 1, 0,\n",
              "       0, 0, 2, 2, 2, 1, 0, 1, 2, 1, 3, 3, 3, 1, 1, 2, 2, 1, 1, 0, 2, 3,\n",
              "       3, 1, 1, 0, 1, 1, 3, 2, 0, 3, 2, 2, 2, 3, 1, 2, 3, 2, 3, 2, 0, 3,\n",
              "       0, 0, 3, 1, 3, 2, 3, 3, 3, 0, 3, 0, 1, 1, 2, 3, 0, 0, 2, 3, 2, 0,\n",
              "       2, 3, 3, 0, 2, 2, 1, 3, 2, 3, 3, 0, 3, 2, 0, 0, 3, 3, 2, 0, 2, 2,\n",
              "       3, 3, 1, 0], dtype=int64)"
            ]
          },
          "execution_count": 267,
          "metadata": {},
          "output_type": "execute_result"
        }
      ],
      "source": [
        "Y_pred"
      ]
    },
    {
      "cell_type": "code",
      "execution_count": null,
      "metadata": {
        "id": "XtCwI2emoOUU"
      },
      "outputs": [],
      "source": [
        "nb_ac = accuracy_score(Y_test, Y_pred)"
      ]
    },
    {
      "cell_type": "code",
      "execution_count": null,
      "metadata": {
        "id": "tdYu20CqoOUU",
        "outputId": "35be37a0-74e8-4264-d007-1ab073b367f3"
      },
      "outputs": [
        {
          "data": {
            "text/plain": [
              "0.7575"
            ]
          },
          "execution_count": 269,
          "metadata": {},
          "output_type": "execute_result"
        }
      ],
      "source": [
        "nb_ac"
      ]
    },
    {
      "cell_type": "code",
      "execution_count": null,
      "metadata": {
        "id": "37jaz_hxoOUU",
        "outputId": "9c7135ea-25a2-4f05-e55f-c94b94caaa89"
      },
      "outputs": [
        {
          "name": "stdout",
          "output_type": "stream",
          "text": [
            "Accuracy: 76.0%\n"
          ]
        }
      ],
      "source": [
        "print(f'Accuracy: {round(accuracy_score(Y_test, Y_pred), 2)*100}%')"
      ]
    },
    {
      "cell_type": "markdown",
      "source": [
        "#Decision Tree"
      ],
      "metadata": {
        "id": "2dxIrKqPp29p"
      }
    },
    {
      "cell_type": "code",
      "execution_count": null,
      "metadata": {
        "id": "J_Hd2V8YoOUV"
      },
      "outputs": [],
      "source": [
        "#Decision Tree:\n",
        "from sklearn.tree import DecisionTreeClassifier\n",
        "dt = DecisionTreeClassifier()"
      ]
    },
    {
      "cell_type": "code",
      "execution_count": null,
      "metadata": {
        "id": "XooAOa2EoOUV",
        "outputId": "13077bdc-dc32-422d-e315-24bcd1387462"
      },
      "outputs": [
        {
          "data": {
            "text/plain": [
              "DecisionTreeClassifier(ccp_alpha=0.0, class_weight=None, criterion='gini',\n",
              "                       max_depth=None, max_features=None, max_leaf_nodes=None,\n",
              "                       min_impurity_decrease=0.0, min_impurity_split=None,\n",
              "                       min_samples_leaf=1, min_samples_split=2,\n",
              "                       min_weight_fraction_leaf=0.0, presort='deprecated',\n",
              "                       random_state=None, splitter='best')"
            ]
          },
          "execution_count": 235,
          "metadata": {},
          "output_type": "execute_result"
        }
      ],
      "source": [
        "dt.fit(X_train, Y_train) "
      ]
    },
    {
      "cell_type": "code",
      "execution_count": null,
      "metadata": {
        "id": "onAKBSFdoOUV"
      },
      "outputs": [],
      "source": [
        "Y_pred = dt.predict(X_test) "
      ]
    },
    {
      "cell_type": "code",
      "execution_count": null,
      "metadata": {
        "id": "0sS6p54-oOUW",
        "outputId": "a99880f7-eee5-427a-8769-f0000905f132"
      },
      "outputs": [
        {
          "data": {
            "text/plain": [
              "array([0, 0, 1, 0, 3, 2, 1, 2, 2, 3, 0, 3, 1, 1, 3, 0, 0, 1, 1, 2, 3, 3,\n",
              "       1, 2, 3, 1, 2, 3, 2, 2, 2, 1, 2, 0, 3, 3, 0, 0, 0, 0, 2, 0, 2, 2,\n",
              "       0, 1, 2, 2, 1, 2, 1, 3, 1, 3, 1, 3, 1, 3, 3, 1, 0, 2, 1, 3, 2, 1,\n",
              "       0, 2, 3, 2, 1, 3, 0, 3, 3, 1, 2, 1, 1, 0, 0, 3, 1, 2, 3, 2, 3, 1,\n",
              "       1, 1, 2, 0, 1, 0, 2, 2, 3, 0, 3, 3, 3, 3, 0, 1, 2, 0, 0, 1, 0, 2,\n",
              "       0, 3, 0, 1, 2, 2, 3, 1, 2, 1, 2, 0, 0, 0, 3, 0, 1, 1, 0, 1, 0, 2,\n",
              "       0, 3, 3, 0, 3, 2, 1, 1, 0, 0, 3, 1, 0, 2, 0, 0, 0, 1, 3, 3, 1, 1,\n",
              "       0, 1, 1, 1, 3, 1, 3, 1, 3, 2, 3, 1, 2, 1, 3, 2, 2, 0, 2, 2, 0, 3,\n",
              "       3, 0, 1, 3, 0, 3, 1, 0, 2, 3, 3, 1, 2, 1, 2, 2, 1, 3, 0, 1, 2, 3,\n",
              "       3, 1, 3, 2, 0, 1, 2, 2, 2, 1, 0, 2, 0, 2, 1, 0, 2, 0, 1, 0, 3, 1,\n",
              "       0, 1, 2, 1, 3, 3, 1, 3, 2, 1, 1, 2, 3, 3, 2, 1, 0, 1, 2, 2, 3, 2,\n",
              "       1, 2, 1, 1, 2, 0, 3, 3, 3, 1, 2, 1, 0, 2, 1, 3, 2, 0, 3, 1, 1, 1,\n",
              "       2, 1, 2, 0, 3, 2, 2, 0, 0, 1, 2, 3, 0, 1, 1, 3, 3, 2, 1, 2, 2, 0,\n",
              "       0, 3, 0, 0, 1, 3, 2, 3, 0, 0, 1, 2, 3, 3, 2, 2, 0, 0, 3, 1, 1, 0,\n",
              "       0, 0, 2, 1, 2, 1, 0, 2, 3, 1, 3, 3, 3, 1, 1, 1, 2, 1, 1, 0, 2, 3,\n",
              "       3, 1, 1, 0, 1, 2, 3, 2, 0, 3, 2, 2, 2, 2, 2, 3, 3, 2, 3, 2, 0, 3,\n",
              "       1, 0, 3, 1, 3, 2, 3, 2, 3, 0, 3, 0, 1, 1, 2, 2, 0, 0, 2, 2, 1, 0,\n",
              "       3, 2, 3, 0, 2, 2, 1, 3, 2, 3, 3, 0, 3, 2, 0, 1, 3, 2, 2, 0, 2, 2,\n",
              "       3, 3, 1, 0], dtype=int64)"
            ]
          },
          "execution_count": 237,
          "metadata": {},
          "output_type": "execute_result"
        }
      ],
      "source": [
        "Y_pred"
      ]
    },
    {
      "cell_type": "code",
      "execution_count": null,
      "metadata": {
        "id": "eXpbSJqfoOUW"
      },
      "outputs": [],
      "source": [
        "from sklearn.metrics import accuracy_score"
      ]
    },
    {
      "cell_type": "code",
      "execution_count": null,
      "metadata": {
        "id": "-ttRa4-ZoOUW"
      },
      "outputs": [],
      "source": [
        "dt_ac = accuracy_score(Y_test, Y_pred)"
      ]
    },
    {
      "cell_type": "code",
      "execution_count": null,
      "metadata": {
        "id": "1m1lfwUToOUW",
        "outputId": "3d9879f3-60b5-4369-f671-1d293a7a222e"
      },
      "outputs": [
        {
          "data": {
            "text/plain": [
              "0.855"
            ]
          },
          "execution_count": 240,
          "metadata": {},
          "output_type": "execute_result"
        }
      ],
      "source": [
        "dt_ac"
      ]
    },
    {
      "cell_type": "code",
      "execution_count": null,
      "metadata": {
        "id": "DnQ_ubWPoOUX",
        "outputId": "1452e595-9535-44bc-cff5-ac0976820b49"
      },
      "outputs": [
        {
          "name": "stdout",
          "output_type": "stream",
          "text": [
            "Accuracy: 86.0%\n"
          ]
        }
      ],
      "source": [
        "print(f'Accuracy: {round(accuracy_score(Y_test, Y_pred), 2)*100}%')"
      ]
    },
    {
      "cell_type": "markdown",
      "source": [
        "#Conclusion"
      ],
      "metadata": {
        "id": "YP-jm5N6qCds"
      }
    },
    {
      "cell_type": "code",
      "execution_count": null,
      "metadata": {
        "id": "4OeFkl2PoOUY",
        "outputId": "8a269d60-3595-4448-ff2d-aa6d853b3fd7"
      },
      "outputs": [
        {
          "data": {
            "image/png": "[encoded data removed]",
            "text/plain": [
              "<Figure size 432x288 with 1 Axes>"
            ]
          },
          "metadata": {
            "needs_background": "light"
          },
          "output_type": "display_data"
        }
      ],
      "source": [
        "plt.bar(x = ['DT','KNN','LR','NB'] , height = [dt_ac,knn_ac,lr_ac,nb_ac])\n",
        "plt.xlabel('Algorithm')\n",
        "plt.ylabel('Accuracy')\n",
        "plt.show()"
      ]
    },
    {
      "cell_type": "code",
      "execution_count": null,
      "metadata": {
        "id": "4KYYnQBCoOUY"
      },
      "outputs": [],
      "source": []
    },
    {
      "cell_type": "code",
      "execution_count": null,
      "metadata": {
        "id": "17o7kXMxoOUY"
      },
      "outputs": [],
      "source": []
    }
  ],
  "metadata": {
    "kernelspec": {
      "display_name": "Python 3",
      "language": "python",
      "name": "python3"
    },
    "language_info": {
      "codemirror_mode": {
        "name": "ipython",
        "version": 3
      },
      "file_extension": ".py",
      "mimetype": "text/x-python",
      "name": "python",
      "nbconvert_exporter": "python",
      "pygments_lexer": "ipython3",
      "version": "3.7.6"
    },
    "colab": {
      "name": "CSE422 Lab: Mobile Price Prediction.ipynb",
      "provenance": [],
      "collapsed_sections": [
        "wEwZkdDJqNXU",
        "UDqxjulyqW7t",
        "WYz9HMNBpfhv",
        "72nVSya0psfM",
        "2dxIrKqPp29p",
        "YP-jm5N6qCds"
      ]
    }
  },
  "nbformat": 4,
  "nbformat_minor": 0
}